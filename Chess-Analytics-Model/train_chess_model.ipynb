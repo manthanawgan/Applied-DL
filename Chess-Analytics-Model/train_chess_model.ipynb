{
 "cells": [
  {
   "cell_type": "code",
   "execution_count": 1,
   "id": "04f295d1",
   "metadata": {},
   "outputs": [],
   "source": [
    "import torch\n",
    "from ultralytics import YOLO"
   ]
  },
  {
   "cell_type": "code",
   "execution_count": 5,
   "id": "b7c96520",
   "metadata": {},
   "outputs": [
    {
     "name": "stdout",
     "output_type": "stream",
     "text": [
      "Ultralytics 8.3.162  Python-3.12.3 torch-2.7.1+cpu CPU (AMD Ryzen 7 5800HS with Radeon Graphics)\n",
      "\u001b[34m\u001b[1mengine\\trainer: \u001b[0magnostic_nms=False, amp=False, augment=False, auto_augment=randaugment, batch=4, bgr=0.0, box=7.5, cache=False, cfg=None, classes=None, close_mosaic=10, cls=0.5, conf=None, copy_paste=0.0, copy_paste_mode=flip, cos_lr=False, cutmix=0.0, data=D:\\coding\\Applied-DL\\Chess-Analytics-Model\\chess_data.yaml, degrees=0.0, deterministic=True, device=cpu, dfl=1.5, dnn=False, dropout=0.0, dynamic=False, embed=None, epochs=50, erasing=0.4, exist_ok=False, fliplr=0.5, flipud=0.0, format=torchscript, fraction=1.0, freeze=None, half=False, hsv_h=0.015, hsv_s=0.7, hsv_v=0.4, imgsz=416, int8=False, iou=0.7, keras=False, kobj=1.0, line_width=None, lr0=0.01, lrf=0.01, mask_ratio=4, max_det=300, mixup=0.0, mode=train, model=yolov8m.pt, momentum=0.937, mosaic=1.0, multi_scale=False, name=chess_data_results3, nbs=64, nms=False, opset=None, optimize=False, optimizer=auto, overlap_mask=True, patience=100, perspective=0.0, plots=True, pose=12.0, pretrained=True, profile=False, project=None, rect=False, resume=False, retina_masks=False, save=True, save_conf=False, save_crop=False, save_dir=d:\\coding\\Applied-DL\\runs\\detect\\chess_data_results3, save_frames=False, save_json=False, save_period=-1, save_txt=False, scale=0.5, seed=0, shear=0.0, show=False, show_boxes=True, show_conf=True, show_labels=True, simplify=True, single_cls=False, source=None, split=val, stream_buffer=False, task=detect, time=None, tracker=botsort.yaml, translate=0.1, val=True, verbose=True, vid_stride=1, visualize=False, warmup_bias_lr=0.1, warmup_epochs=3.0, warmup_momentum=0.8, weight_decay=0.0005, workers=8, workspace=None\n",
      "Overriding model.yaml nc=80 with nc=12\n",
      "\n",
      "                   from  n    params  module                                       arguments                     \n",
      "  0                  -1  1      1392  ultralytics.nn.modules.conv.Conv             [3, 48, 3, 2]                 \n",
      "  1                  -1  1     41664  ultralytics.nn.modules.conv.Conv             [48, 96, 3, 2]                \n",
      "  2                  -1  2    111360  ultralytics.nn.modules.block.C2f             [96, 96, 2, True]             \n",
      "  3                  -1  1    166272  ultralytics.nn.modules.conv.Conv             [96, 192, 3, 2]               \n",
      "  4                  -1  4    813312  ultralytics.nn.modules.block.C2f             [192, 192, 4, True]           \n",
      "  5                  -1  1    664320  ultralytics.nn.modules.conv.Conv             [192, 384, 3, 2]              \n",
      "  6                  -1  4   3248640  ultralytics.nn.modules.block.C2f             [384, 384, 4, True]           \n",
      "  7                  -1  1   1991808  ultralytics.nn.modules.conv.Conv             [384, 576, 3, 2]              \n",
      "  8                  -1  2   3985920  ultralytics.nn.modules.block.C2f             [576, 576, 2, True]           \n",
      "  9                  -1  1    831168  ultralytics.nn.modules.block.SPPF            [576, 576, 5]                 \n",
      " 10                  -1  1         0  torch.nn.modules.upsampling.Upsample         [None, 2, 'nearest']          \n",
      " 11             [-1, 6]  1         0  ultralytics.nn.modules.conv.Concat           [1]                           \n",
      " 12                  -1  2   1993728  ultralytics.nn.modules.block.C2f             [960, 384, 2]                 \n",
      " 13                  -1  1         0  torch.nn.modules.upsampling.Upsample         [None, 2, 'nearest']          \n",
      " 14             [-1, 4]  1         0  ultralytics.nn.modules.conv.Concat           [1]                           \n",
      " 15                  -1  2    517632  ultralytics.nn.modules.block.C2f             [576, 192, 2]                 \n",
      " 16                  -1  1    332160  ultralytics.nn.modules.conv.Conv             [192, 192, 3, 2]              \n",
      " 17            [-1, 12]  1         0  ultralytics.nn.modules.conv.Concat           [1]                           \n",
      " 18                  -1  2   1846272  ultralytics.nn.modules.block.C2f             [576, 384, 2]                 \n",
      " 19                  -1  1   1327872  ultralytics.nn.modules.conv.Conv             [384, 384, 3, 2]              \n",
      " 20             [-1, 9]  1         0  ultralytics.nn.modules.conv.Concat           [1]                           \n",
      " 21                  -1  2   4207104  ultralytics.nn.modules.block.C2f             [960, 576, 2]                 \n",
      " 22        [15, 18, 21]  1   3782644  ultralytics.nn.modules.head.Detect           [12, [192, 384, 576]]         \n",
      "Model summary: 169 layers, 25,863,268 parameters, 25,863,252 gradients, 79.1 GFLOPs\n",
      "\n",
      "Transferred 469/475 items from pretrained weights\n",
      "Freezing layer 'model.22.dfl.conv.weight'\n",
      "\u001b[34m\u001b[1mtrain: \u001b[0mFast image access  (ping: 0.10.1 ms, read: 60.215.3 MB/s, size: 23.6 KB)\n"
     ]
    },
    {
     "name": "stderr",
     "output_type": "stream",
     "text": [
      "\u001b[34m\u001b[1mtrain: \u001b[0mScanning D:\\coding\\Applied-DL\\Chess-Analytics-Model\\data\\train\\labels... 606 images, 0 backgrounds, 279 corrupt: 100%|██████████| 606/606 [00:01<00:00, 578.94it/s]"
     ]
    },
    {
     "name": "stdout",
     "output_type": "stream",
     "text": [
      "\u001b[34m\u001b[1mtrain: \u001b[0mD:\\coding\\Applied-DL\\Chess-Analytics-Model\\data\\train\\images\\03d3ff4582c8125d69c19a72f846bec8_jpg.rf.0abd6e8d01091ac5396f7a9cf390bdc9.jpg: ignoring corrupt image/label: Label class 12 exceeds dataset class count 12. Possible class labels are 0-11\n",
      "\u001b[34m\u001b[1mtrain: \u001b[0mD:\\coding\\Applied-DL\\Chess-Analytics-Model\\data\\train\\images\\03d3ff4582c8125d69c19a72f846bec8_jpg.rf.7a003146bd5c6847a71accae7e87bf3b.jpg: ignoring corrupt image/label: Label class 12 exceeds dataset class count 12. Possible class labels are 0-11\n",
      "\u001b[34m\u001b[1mtrain: \u001b[0mD:\\coding\\Applied-DL\\Chess-Analytics-Model\\data\\train\\images\\03d3ff4582c8125d69c19a72f846bec8_jpg.rf.8cfdbdc73a4c6149758151715b2e8b44.jpg: ignoring corrupt image/label: Label class 12 exceeds dataset class count 12. Possible class labels are 0-11\n",
      "\u001b[34m\u001b[1mtrain: \u001b[0mD:\\coding\\Applied-DL\\Chess-Analytics-Model\\data\\train\\images\\040f2bcba5afce3afafdd5bbf36d2ca5_jpg.rf.41718e1241c9b432c1aef73937e12feb.jpg: ignoring corrupt image/label: Label class 12 exceeds dataset class count 12. Possible class labels are 0-11\n",
      "\u001b[34m\u001b[1mtrain: \u001b[0mD:\\coding\\Applied-DL\\Chess-Analytics-Model\\data\\train\\images\\040f2bcba5afce3afafdd5bbf36d2ca5_jpg.rf.4b3a8c8430ecaaf5d31ff3b6ff994876.jpg: ignoring corrupt image/label: Label class 12 exceeds dataset class count 12. Possible class labels are 0-11\n",
      "\u001b[34m\u001b[1mtrain: \u001b[0mD:\\coding\\Applied-DL\\Chess-Analytics-Model\\data\\train\\images\\040f2bcba5afce3afafdd5bbf36d2ca5_jpg.rf.76f9bf46e314e3671d2b9a9fe1eff19f.jpg: ignoring corrupt image/label: Label class 12 exceeds dataset class count 12. Possible class labels are 0-11\n",
      "\u001b[34m\u001b[1mtrain: \u001b[0mD:\\coding\\Applied-DL\\Chess-Analytics-Model\\data\\train\\images\\13106bbc80a01cc413c2ab5052d2ec25_jpg.rf.137d13b354dafa0c28ae4d8136031f6b.jpg: ignoring corrupt image/label: Label class 12 exceeds dataset class count 12. Possible class labels are 0-11\n",
      "\u001b[34m\u001b[1mtrain: \u001b[0mD:\\coding\\Applied-DL\\Chess-Analytics-Model\\data\\train\\images\\13106bbc80a01cc413c2ab5052d2ec25_jpg.rf.19c72bddcf32faef8dbe854f65ec3e6f.jpg: ignoring corrupt image/label: Label class 12 exceeds dataset class count 12. Possible class labels are 0-11\n",
      "\u001b[34m\u001b[1mtrain: \u001b[0mD:\\coding\\Applied-DL\\Chess-Analytics-Model\\data\\train\\images\\13106bbc80a01cc413c2ab5052d2ec25_jpg.rf.b232d48e25d062c5d25a5be4e1f81021.jpg: ignoring corrupt image/label: Label class 12 exceeds dataset class count 12. Possible class labels are 0-11\n",
      "\u001b[34m\u001b[1mtrain: \u001b[0mD:\\coding\\Applied-DL\\Chess-Analytics-Model\\data\\train\\images\\1595777dfa66e954ae23655743e24809_jpg.rf.5dc97daf85a90e102fd9454665288eb5.jpg: ignoring corrupt image/label: Label class 12 exceeds dataset class count 12. Possible class labels are 0-11\n",
      "\u001b[34m\u001b[1mtrain: \u001b[0mD:\\coding\\Applied-DL\\Chess-Analytics-Model\\data\\train\\images\\1595777dfa66e954ae23655743e24809_jpg.rf.86c2d8bf856a3470877532a75c12a144.jpg: ignoring corrupt image/label: Label class 12 exceeds dataset class count 12. Possible class labels are 0-11\n",
      "\u001b[34m\u001b[1mtrain: \u001b[0mD:\\coding\\Applied-DL\\Chess-Analytics-Model\\data\\train\\images\\1595777dfa66e954ae23655743e24809_jpg.rf.b60c3a36f35dd1eba3d57d815d930d67.jpg: ignoring corrupt image/label: Label class 12 exceeds dataset class count 12. Possible class labels are 0-11\n",
      "\u001b[34m\u001b[1mtrain: \u001b[0mD:\\coding\\Applied-DL\\Chess-Analytics-Model\\data\\train\\images\\1728cd731489df8bb8e0396e178fe393_jpg.rf.72e14139be3f1f663f1512324adbe0cd.jpg: ignoring corrupt image/label: Label class 12 exceeds dataset class count 12. Possible class labels are 0-11\n",
      "\u001b[34m\u001b[1mtrain: \u001b[0mD:\\coding\\Applied-DL\\Chess-Analytics-Model\\data\\train\\images\\1728cd731489df8bb8e0396e178fe393_jpg.rf.7ef76473b0a2962c632997f2fd7570eb.jpg: ignoring corrupt image/label: Label class 12 exceeds dataset class count 12. Possible class labels are 0-11\n",
      "\u001b[34m\u001b[1mtrain: \u001b[0mD:\\coding\\Applied-DL\\Chess-Analytics-Model\\data\\train\\images\\1728cd731489df8bb8e0396e178fe393_jpg.rf.cf3127987c30548d691295953a2326db.jpg: ignoring corrupt image/label: Label class 12 exceeds dataset class count 12. Possible class labels are 0-11\n",
      "\u001b[34m\u001b[1mtrain: \u001b[0mD:\\coding\\Applied-DL\\Chess-Analytics-Model\\data\\train\\images\\1877a28e4c5f5c1ea68aca66f4e85d95_jpg.rf.8214b540ec0fb6594f0a37059176df33.jpg: ignoring corrupt image/label: Label class 12 exceeds dataset class count 12. Possible class labels are 0-11\n",
      "\u001b[34m\u001b[1mtrain: \u001b[0mD:\\coding\\Applied-DL\\Chess-Analytics-Model\\data\\train\\images\\1877a28e4c5f5c1ea68aca66f4e85d95_jpg.rf.9e17aead7bdfecd30e23fcbd0cdf9305.jpg: ignoring corrupt image/label: Label class 12 exceeds dataset class count 12. Possible class labels are 0-11\n",
      "\u001b[34m\u001b[1mtrain: \u001b[0mD:\\coding\\Applied-DL\\Chess-Analytics-Model\\data\\train\\images\\1877a28e4c5f5c1ea68aca66f4e85d95_jpg.rf.c65abe6a33f5679f8c1e84d9029a77e4.jpg: ignoring corrupt image/label: Label class 12 exceeds dataset class count 12. Possible class labels are 0-11\n",
      "\u001b[34m\u001b[1mtrain: \u001b[0mD:\\coding\\Applied-DL\\Chess-Analytics-Model\\data\\train\\images\\1a530d578f3f0bf3497bfeff3d953025_jpg.rf.a03681d6dbbeb2e50eac9e1feabbd309.jpg: ignoring corrupt image/label: Label class 12 exceeds dataset class count 12. Possible class labels are 0-11\n",
      "\u001b[34m\u001b[1mtrain: \u001b[0mD:\\coding\\Applied-DL\\Chess-Analytics-Model\\data\\train\\images\\1a530d578f3f0bf3497bfeff3d953025_jpg.rf.a920532b8b005cc545bc368ad3c8f2ef.jpg: ignoring corrupt image/label: Label class 12 exceeds dataset class count 12. Possible class labels are 0-11\n",
      "\u001b[34m\u001b[1mtrain: \u001b[0mD:\\coding\\Applied-DL\\Chess-Analytics-Model\\data\\train\\images\\1a530d578f3f0bf3497bfeff3d953025_jpg.rf.b8a3b1a645357b4ab6dc8daa540ba89d.jpg: ignoring corrupt image/label: Label class 12 exceeds dataset class count 12. Possible class labels are 0-11\n",
      "\u001b[34m\u001b[1mtrain: \u001b[0mD:\\coding\\Applied-DL\\Chess-Analytics-Model\\data\\train\\images\\1a8a4abcba7c4ead35c01f05b9fae8e5_jpg.rf.442f136a399a1f9fe7ebdbfb4ba111a1.jpg: ignoring corrupt image/label: Label class 12 exceeds dataset class count 12. Possible class labels are 0-11\n",
      "\u001b[34m\u001b[1mtrain: \u001b[0mD:\\coding\\Applied-DL\\Chess-Analytics-Model\\data\\train\\images\\1a8a4abcba7c4ead35c01f05b9fae8e5_jpg.rf.d4317263bf28a3b3e8a9e0f6618e9745.jpg: ignoring corrupt image/label: Label class 12 exceeds dataset class count 12. Possible class labels are 0-11\n",
      "\u001b[34m\u001b[1mtrain: \u001b[0mD:\\coding\\Applied-DL\\Chess-Analytics-Model\\data\\train\\images\\1a8a4abcba7c4ead35c01f05b9fae8e5_jpg.rf.e7ce7cfefb2970bf066ee8409dafc31f.jpg: ignoring corrupt image/label: Label class 12 exceeds dataset class count 12. Possible class labels are 0-11\n",
      "\u001b[34m\u001b[1mtrain: \u001b[0mD:\\coding\\Applied-DL\\Chess-Analytics-Model\\data\\train\\images\\22e74efb18b2d88fba63d25a61bf5f97_jpg.rf.385b3e9a3203fff03fb378e343ccff7b.jpg: ignoring corrupt image/label: Label class 12 exceeds dataset class count 12. Possible class labels are 0-11\n",
      "\u001b[34m\u001b[1mtrain: \u001b[0mD:\\coding\\Applied-DL\\Chess-Analytics-Model\\data\\train\\images\\22e74efb18b2d88fba63d25a61bf5f97_jpg.rf.a3d860399c54e7d955b2235f44679f53.jpg: ignoring corrupt image/label: Label class 12 exceeds dataset class count 12. Possible class labels are 0-11\n",
      "\u001b[34m\u001b[1mtrain: \u001b[0mD:\\coding\\Applied-DL\\Chess-Analytics-Model\\data\\train\\images\\22e74efb18b2d88fba63d25a61bf5f97_jpg.rf.e472c82b49f6f6da28b302bda8ecc4d4.jpg: ignoring corrupt image/label: Label class 12 exceeds dataset class count 12. Possible class labels are 0-11\n",
      "\u001b[34m\u001b[1mtrain: \u001b[0mD:\\coding\\Applied-DL\\Chess-Analytics-Model\\data\\train\\images\\239c409d5c09b493fed01a70a3cda4bc_jpg.rf.01a3333223abb899709f52303c100d19.jpg: ignoring corrupt image/label: Label class 12 exceeds dataset class count 12. Possible class labels are 0-11\n",
      "\u001b[34m\u001b[1mtrain: \u001b[0mD:\\coding\\Applied-DL\\Chess-Analytics-Model\\data\\train\\images\\239c409d5c09b493fed01a70a3cda4bc_jpg.rf.0da84dd41081b1d68b3eed86259f4927.jpg: ignoring corrupt image/label: Label class 12 exceeds dataset class count 12. Possible class labels are 0-11\n",
      "\u001b[34m\u001b[1mtrain: \u001b[0mD:\\coding\\Applied-DL\\Chess-Analytics-Model\\data\\train\\images\\239c409d5c09b493fed01a70a3cda4bc_jpg.rf.8f3596ebdf348f77b1bde7b51557bf0f.jpg: ignoring corrupt image/label: Label class 12 exceeds dataset class count 12. Possible class labels are 0-11\n",
      "\u001b[34m\u001b[1mtrain: \u001b[0mD:\\coding\\Applied-DL\\Chess-Analytics-Model\\data\\train\\images\\26d663ab5ffbec49f9dc8e592982cfd4_jpg.rf.0fe973299ff9e73874d9e684cba4e406.jpg: ignoring corrupt image/label: Label class 12 exceeds dataset class count 12. Possible class labels are 0-11\n",
      "\u001b[34m\u001b[1mtrain: \u001b[0mD:\\coding\\Applied-DL\\Chess-Analytics-Model\\data\\train\\images\\26d663ab5ffbec49f9dc8e592982cfd4_jpg.rf.5e1a9d49ad09f5a7549225a05e1f66a6.jpg: ignoring corrupt image/label: Label class 12 exceeds dataset class count 12. Possible class labels are 0-11\n",
      "\u001b[34m\u001b[1mtrain: \u001b[0mD:\\coding\\Applied-DL\\Chess-Analytics-Model\\data\\train\\images\\26d663ab5ffbec49f9dc8e592982cfd4_jpg.rf.bb226be189ee3a6399fbbd5080852e5b.jpg: ignoring corrupt image/label: Label class 12 exceeds dataset class count 12. Possible class labels are 0-11\n",
      "\u001b[34m\u001b[1mtrain: \u001b[0mD:\\coding\\Applied-DL\\Chess-Analytics-Model\\data\\train\\images\\285d7c487a4e20ad832a74acb527b77f_jpg.rf.3dc659a479a4644b5a633a089379b94c.jpg: ignoring corrupt image/label: Label class 12 exceeds dataset class count 12. Possible class labels are 0-11\n",
      "\u001b[34m\u001b[1mtrain: \u001b[0mD:\\coding\\Applied-DL\\Chess-Analytics-Model\\data\\train\\images\\285d7c487a4e20ad832a74acb527b77f_jpg.rf.5898c8f286182a8e159cb26d009defc3.jpg: ignoring corrupt image/label: Label class 12 exceeds dataset class count 12. Possible class labels are 0-11\n",
      "\u001b[34m\u001b[1mtrain: \u001b[0mD:\\coding\\Applied-DL\\Chess-Analytics-Model\\data\\train\\images\\285d7c487a4e20ad832a74acb527b77f_jpg.rf.df00faf5828d265a002f42c16f6aab0a.jpg: ignoring corrupt image/label: Label class 12 exceeds dataset class count 12. Possible class labels are 0-11\n",
      "\u001b[34m\u001b[1mtrain: \u001b[0mD:\\coding\\Applied-DL\\Chess-Analytics-Model\\data\\train\\images\\292b0ddcacad7de06a628980954b6993_jpg.rf.67f9ea5e7adf1465fa4334d3cad42707.jpg: ignoring corrupt image/label: Label class 12 exceeds dataset class count 12. Possible class labels are 0-11\n",
      "\u001b[34m\u001b[1mtrain: \u001b[0mD:\\coding\\Applied-DL\\Chess-Analytics-Model\\data\\train\\images\\292b0ddcacad7de06a628980954b6993_jpg.rf.f38c3bb31f5e00206f9dd1882d9aa1b1.jpg: ignoring corrupt image/label: Label class 12 exceeds dataset class count 12. Possible class labels are 0-11\n",
      "\u001b[34m\u001b[1mtrain: \u001b[0mD:\\coding\\Applied-DL\\Chess-Analytics-Model\\data\\train\\images\\292b0ddcacad7de06a628980954b6993_jpg.rf.ffb6b085a9d60c9f2c2e7524963000a4.jpg: ignoring corrupt image/label: Label class 12 exceeds dataset class count 12. Possible class labels are 0-11\n",
      "\u001b[34m\u001b[1mtrain: \u001b[0mD:\\coding\\Applied-DL\\Chess-Analytics-Model\\data\\train\\images\\3474d785b1b21d68163f56aa00a92bc9_jpg.rf.526eb41b7d4b9055bcd36adc5d65734a.jpg: ignoring corrupt image/label: Label class 12 exceeds dataset class count 12. Possible class labels are 0-11\n",
      "\u001b[34m\u001b[1mtrain: \u001b[0mD:\\coding\\Applied-DL\\Chess-Analytics-Model\\data\\train\\images\\3474d785b1b21d68163f56aa00a92bc9_jpg.rf.6ae75801d3082ec64235d399987e2f2d.jpg: ignoring corrupt image/label: Label class 12 exceeds dataset class count 12. Possible class labels are 0-11\n",
      "\u001b[34m\u001b[1mtrain: \u001b[0mD:\\coding\\Applied-DL\\Chess-Analytics-Model\\data\\train\\images\\3474d785b1b21d68163f56aa00a92bc9_jpg.rf.dc30237c228a1ef77d0fa95a2836791e.jpg: ignoring corrupt image/label: Label class 12 exceeds dataset class count 12. Possible class labels are 0-11\n",
      "\u001b[34m\u001b[1mtrain: \u001b[0mD:\\coding\\Applied-DL\\Chess-Analytics-Model\\data\\train\\images\\36066ba85572ce99198f1a21c2c8bbff_jpg.rf.0e1fe87ccd50187773a1725f684648e4.jpg: ignoring corrupt image/label: Label class 12 exceeds dataset class count 12. Possible class labels are 0-11\n",
      "\u001b[34m\u001b[1mtrain: \u001b[0mD:\\coding\\Applied-DL\\Chess-Analytics-Model\\data\\train\\images\\36066ba85572ce99198f1a21c2c8bbff_jpg.rf.7cc3238420fd4fdce4e67d256d487f9f.jpg: ignoring corrupt image/label: Label class 12 exceeds dataset class count 12. Possible class labels are 0-11\n",
      "\u001b[34m\u001b[1mtrain: \u001b[0mD:\\coding\\Applied-DL\\Chess-Analytics-Model\\data\\train\\images\\36066ba85572ce99198f1a21c2c8bbff_jpg.rf.b2440aa8c27cef761d6f79eb24689ca9.jpg: ignoring corrupt image/label: Label class 12 exceeds dataset class count 12. Possible class labels are 0-11\n",
      "\u001b[34m\u001b[1mtrain: \u001b[0mD:\\coding\\Applied-DL\\Chess-Analytics-Model\\data\\train\\images\\3730ef213ac6aad431475a9ab28f349a_jpg.rf.077f757828e9ff709c4e1e8b90f2bd52.jpg: ignoring corrupt image/label: Label class 12 exceeds dataset class count 12. Possible class labels are 0-11\n",
      "\u001b[34m\u001b[1mtrain: \u001b[0mD:\\coding\\Applied-DL\\Chess-Analytics-Model\\data\\train\\images\\3730ef213ac6aad431475a9ab28f349a_jpg.rf.7529be3c45ccff8446d9464f88f8d1ae.jpg: ignoring corrupt image/label: Label class 12 exceeds dataset class count 12. Possible class labels are 0-11\n",
      "\u001b[34m\u001b[1mtrain: \u001b[0mD:\\coding\\Applied-DL\\Chess-Analytics-Model\\data\\train\\images\\3730ef213ac6aad431475a9ab28f349a_jpg.rf.94811f6e8a9f59622e25c0ccc4b39c91.jpg: ignoring corrupt image/label: Label class 12 exceeds dataset class count 12. Possible class labels are 0-11\n",
      "\u001b[34m\u001b[1mtrain: \u001b[0mD:\\coding\\Applied-DL\\Chess-Analytics-Model\\data\\train\\images\\3bab0eaaeb63a2ac9ae4942df4006a25_jpg.rf.8fd1c7b01ae630cdb96546469e0c742d.jpg: ignoring corrupt image/label: Label class 12 exceeds dataset class count 12. Possible class labels are 0-11\n",
      "\u001b[34m\u001b[1mtrain: \u001b[0mD:\\coding\\Applied-DL\\Chess-Analytics-Model\\data\\train\\images\\3bab0eaaeb63a2ac9ae4942df4006a25_jpg.rf.b78947d5207c15119ee81058a1b75c1e.jpg: ignoring corrupt image/label: Label class 12 exceeds dataset class count 12. Possible class labels are 0-11\n",
      "\u001b[34m\u001b[1mtrain: \u001b[0mD:\\coding\\Applied-DL\\Chess-Analytics-Model\\data\\train\\images\\3bab0eaaeb63a2ac9ae4942df4006a25_jpg.rf.d137ab448f3c219896325f1e464c9cdc.jpg: ignoring corrupt image/label: Label class 12 exceeds dataset class count 12. Possible class labels are 0-11\n",
      "\u001b[34m\u001b[1mtrain: \u001b[0mD:\\coding\\Applied-DL\\Chess-Analytics-Model\\data\\train\\images\\3e8fb24addda1a0945bd6b7777bc4018_jpg.rf.57548fe2320bf43321fcf4372bfe6e2f.jpg: ignoring corrupt image/label: Label class 12 exceeds dataset class count 12. Possible class labels are 0-11\n",
      "\u001b[34m\u001b[1mtrain: \u001b[0mD:\\coding\\Applied-DL\\Chess-Analytics-Model\\data\\train\\images\\3e8fb24addda1a0945bd6b7777bc4018_jpg.rf.bc9daf0bd452e0c7dfd9167761e02135.jpg: ignoring corrupt image/label: Label class 12 exceeds dataset class count 12. Possible class labels are 0-11\n",
      "\u001b[34m\u001b[1mtrain: \u001b[0mD:\\coding\\Applied-DL\\Chess-Analytics-Model\\data\\train\\images\\3e8fb24addda1a0945bd6b7777bc4018_jpg.rf.f842c9757bdb85fddeddce5fddd65bc0.jpg: ignoring corrupt image/label: Label class 12 exceeds dataset class count 12. Possible class labels are 0-11\n",
      "\u001b[34m\u001b[1mtrain: \u001b[0mD:\\coding\\Applied-DL\\Chess-Analytics-Model\\data\\train\\images\\479459fe5c8213a84fd55ba82f2670b1_jpg.rf.a4c7681de134fd46a3463e388f1e48ec.jpg: ignoring corrupt image/label: Label class 12 exceeds dataset class count 12. Possible class labels are 0-11\n",
      "\u001b[34m\u001b[1mtrain: \u001b[0mD:\\coding\\Applied-DL\\Chess-Analytics-Model\\data\\train\\images\\479459fe5c8213a84fd55ba82f2670b1_jpg.rf.aed5813593dffed834ffe36cd1a2e976.jpg: ignoring corrupt image/label: Label class 12 exceeds dataset class count 12. Possible class labels are 0-11\n",
      "\u001b[34m\u001b[1mtrain: \u001b[0mD:\\coding\\Applied-DL\\Chess-Analytics-Model\\data\\train\\images\\479459fe5c8213a84fd55ba82f2670b1_jpg.rf.d7c8eb7af0feef6985de36ee54a50f84.jpg: ignoring corrupt image/label: Label class 12 exceeds dataset class count 12. Possible class labels are 0-11\n",
      "\u001b[34m\u001b[1mtrain: \u001b[0mD:\\coding\\Applied-DL\\Chess-Analytics-Model\\data\\train\\images\\48d3c59a99b2b5a5b9f1eb7d5ba63b60_jpg.rf.03a5018519fa45d9439d5716a03d3d02.jpg: ignoring corrupt image/label: Label class 12 exceeds dataset class count 12. Possible class labels are 0-11\n",
      "\u001b[34m\u001b[1mtrain: \u001b[0mD:\\coding\\Applied-DL\\Chess-Analytics-Model\\data\\train\\images\\48d3c59a99b2b5a5b9f1eb7d5ba63b60_jpg.rf.303fc026ea7df3c5cafd1f551ed75390.jpg: ignoring corrupt image/label: Label class 12 exceeds dataset class count 12. Possible class labels are 0-11\n",
      "\u001b[34m\u001b[1mtrain: \u001b[0mD:\\coding\\Applied-DL\\Chess-Analytics-Model\\data\\train\\images\\48d3c59a99b2b5a5b9f1eb7d5ba63b60_jpg.rf.d798956fd75f2a961a741523c14d932b.jpg: ignoring corrupt image/label: Label class 12 exceeds dataset class count 12. Possible class labels are 0-11\n",
      "\u001b[34m\u001b[1mtrain: \u001b[0mD:\\coding\\Applied-DL\\Chess-Analytics-Model\\data\\train\\images\\4939035108d04ee672570a7cc937e270_jpg.rf.0bb1cc45c05e40db8106b53800168de6.jpg: ignoring corrupt image/label: Label class 12 exceeds dataset class count 12. Possible class labels are 0-11\n",
      "\u001b[34m\u001b[1mtrain: \u001b[0mD:\\coding\\Applied-DL\\Chess-Analytics-Model\\data\\train\\images\\4939035108d04ee672570a7cc937e270_jpg.rf.665362625fea5d5db13389cfa7a51e28.jpg: ignoring corrupt image/label: Label class 12 exceeds dataset class count 12. Possible class labels are 0-11\n",
      "\u001b[34m\u001b[1mtrain: \u001b[0mD:\\coding\\Applied-DL\\Chess-Analytics-Model\\data\\train\\images\\4939035108d04ee672570a7cc937e270_jpg.rf.c676ffd8b63ca7b82aeb3348c032c768.jpg: ignoring corrupt image/label: Label class 12 exceeds dataset class count 12. Possible class labels are 0-11\n",
      "\u001b[34m\u001b[1mtrain: \u001b[0mD:\\coding\\Applied-DL\\Chess-Analytics-Model\\data\\train\\images\\49c2afbbe5726160b289f7c0c62cdace_jpg.rf.18b76575c39d8cf45f9a9a8b6c6b6646.jpg: ignoring corrupt image/label: Label class 12 exceeds dataset class count 12. Possible class labels are 0-11\n",
      "\u001b[34m\u001b[1mtrain: \u001b[0mD:\\coding\\Applied-DL\\Chess-Analytics-Model\\data\\train\\images\\49c2afbbe5726160b289f7c0c62cdace_jpg.rf.518f9a645071b5dfd9104711c09c2b49.jpg: ignoring corrupt image/label: Label class 12 exceeds dataset class count 12. Possible class labels are 0-11\n",
      "\u001b[34m\u001b[1mtrain: \u001b[0mD:\\coding\\Applied-DL\\Chess-Analytics-Model\\data\\train\\images\\49c2afbbe5726160b289f7c0c62cdace_jpg.rf.c09e87097759a1f3c86cfc83a677ee7d.jpg: ignoring corrupt image/label: Label class 12 exceeds dataset class count 12. Possible class labels are 0-11\n",
      "\u001b[34m\u001b[1mtrain: \u001b[0mD:\\coding\\Applied-DL\\Chess-Analytics-Model\\data\\train\\images\\49d365236ee4fb6bd982b0f00bff007e_jpg.rf.526a1568df59ddce6050cf2bce92f260.jpg: ignoring corrupt image/label: Label class 12 exceeds dataset class count 12. Possible class labels are 0-11\n",
      "\u001b[34m\u001b[1mtrain: \u001b[0mD:\\coding\\Applied-DL\\Chess-Analytics-Model\\data\\train\\images\\49d365236ee4fb6bd982b0f00bff007e_jpg.rf.64f40e96e43baa404c6341ccd672ca08.jpg: ignoring corrupt image/label: Label class 12 exceeds dataset class count 12. Possible class labels are 0-11\n",
      "\u001b[34m\u001b[1mtrain: \u001b[0mD:\\coding\\Applied-DL\\Chess-Analytics-Model\\data\\train\\images\\49d365236ee4fb6bd982b0f00bff007e_jpg.rf.da164da26c512372f70e3090200361a9.jpg: ignoring corrupt image/label: Label class 12 exceeds dataset class count 12. Possible class labels are 0-11\n",
      "\u001b[34m\u001b[1mtrain: \u001b[0mD:\\coding\\Applied-DL\\Chess-Analytics-Model\\data\\train\\images\\4ae38537a74c5ed10d5223f8066659fc_jpg.rf.2a3fc30eafd01a0c64b484b6082ded39.jpg: ignoring corrupt image/label: Label class 12 exceeds dataset class count 12. Possible class labels are 0-11\n",
      "\u001b[34m\u001b[1mtrain: \u001b[0mD:\\coding\\Applied-DL\\Chess-Analytics-Model\\data\\train\\images\\4ae38537a74c5ed10d5223f8066659fc_jpg.rf.b01826258e0bba0f3ad3f79f161ca106.jpg: ignoring corrupt image/label: Label class 12 exceeds dataset class count 12. Possible class labels are 0-11\n",
      "\u001b[34m\u001b[1mtrain: \u001b[0mD:\\coding\\Applied-DL\\Chess-Analytics-Model\\data\\train\\images\\4ae38537a74c5ed10d5223f8066659fc_jpg.rf.c07420cc60cdf3ede129a75dec9678e6.jpg: ignoring corrupt image/label: Label class 12 exceeds dataset class count 12. Possible class labels are 0-11\n",
      "\u001b[34m\u001b[1mtrain: \u001b[0mD:\\coding\\Applied-DL\\Chess-Analytics-Model\\data\\train\\images\\4bf38c062fa7b5796d15ba90d6c3a456_jpg.rf.54d7350f0b18e8ec51cc8b9c351f6dce.jpg: ignoring corrupt image/label: Label class 12 exceeds dataset class count 12. Possible class labels are 0-11\n",
      "\u001b[34m\u001b[1mtrain: \u001b[0mD:\\coding\\Applied-DL\\Chess-Analytics-Model\\data\\train\\images\\4bf38c062fa7b5796d15ba90d6c3a456_jpg.rf.5dc82d8843d5593359743fb73bd57edd.jpg: ignoring corrupt image/label: Label class 12 exceeds dataset class count 12. Possible class labels are 0-11\n",
      "\u001b[34m\u001b[1mtrain: \u001b[0mD:\\coding\\Applied-DL\\Chess-Analytics-Model\\data\\train\\images\\4bf38c062fa7b5796d15ba90d6c3a456_jpg.rf.91410d81d86b82171fe7b271b94a4f58.jpg: ignoring corrupt image/label: Label class 12 exceeds dataset class count 12. Possible class labels are 0-11\n",
      "\u001b[34m\u001b[1mtrain: \u001b[0mD:\\coding\\Applied-DL\\Chess-Analytics-Model\\data\\train\\images\\4d6b667ecbd41ebd603b38848366d9d0_jpg.rf.316c7f9af0955c14bc8303c62d5f0cd6.jpg: ignoring corrupt image/label: Label class 12 exceeds dataset class count 12. Possible class labels are 0-11\n",
      "\u001b[34m\u001b[1mtrain: \u001b[0mD:\\coding\\Applied-DL\\Chess-Analytics-Model\\data\\train\\images\\4d6b667ecbd41ebd603b38848366d9d0_jpg.rf.4e30bb8f1b1048c822c448c40663b90d.jpg: ignoring corrupt image/label: Label class 12 exceeds dataset class count 12. Possible class labels are 0-11\n",
      "\u001b[34m\u001b[1mtrain: \u001b[0mD:\\coding\\Applied-DL\\Chess-Analytics-Model\\data\\train\\images\\4d6b667ecbd41ebd603b38848366d9d0_jpg.rf.7cc24cb0d6e9d83179bc05d30f21bb49.jpg: ignoring corrupt image/label: Label class 12 exceeds dataset class count 12. Possible class labels are 0-11\n",
      "\u001b[34m\u001b[1mtrain: \u001b[0mD:\\coding\\Applied-DL\\Chess-Analytics-Model\\data\\train\\images\\4d7820ad9fb4fe69d5168e1d7317dd02_jpg.rf.64764ea1b78a8aec014ead34271137f7.jpg: ignoring corrupt image/label: Label class 12 exceeds dataset class count 12. Possible class labels are 0-11\n",
      "\u001b[34m\u001b[1mtrain: \u001b[0mD:\\coding\\Applied-DL\\Chess-Analytics-Model\\data\\train\\images\\4d7820ad9fb4fe69d5168e1d7317dd02_jpg.rf.8cb302097c3cd4d1488ba6ed0b6c0abf.jpg: ignoring corrupt image/label: Label class 12 exceeds dataset class count 12. Possible class labels are 0-11\n",
      "\u001b[34m\u001b[1mtrain: \u001b[0mD:\\coding\\Applied-DL\\Chess-Analytics-Model\\data\\train\\images\\4d7820ad9fb4fe69d5168e1d7317dd02_jpg.rf.fe26c65d9b961251ae7dc598e45679b8.jpg: ignoring corrupt image/label: Label class 12 exceeds dataset class count 12. Possible class labels are 0-11\n",
      "\u001b[34m\u001b[1mtrain: \u001b[0mD:\\coding\\Applied-DL\\Chess-Analytics-Model\\data\\train\\images\\4de23afff63bc169b4ebe547a9c9b692_jpg.rf.958dc90b7cb5eeb2bdc66b0356537d03.jpg: ignoring corrupt image/label: Label class 12 exceeds dataset class count 12. Possible class labels are 0-11\n",
      "\u001b[34m\u001b[1mtrain: \u001b[0mD:\\coding\\Applied-DL\\Chess-Analytics-Model\\data\\train\\images\\4de23afff63bc169b4ebe547a9c9b692_jpg.rf.b16d4e221a3c932898f7efac57ab331f.jpg: ignoring corrupt image/label: Label class 12 exceeds dataset class count 12. Possible class labels are 0-11\n",
      "\u001b[34m\u001b[1mtrain: \u001b[0mD:\\coding\\Applied-DL\\Chess-Analytics-Model\\data\\train\\images\\4de23afff63bc169b4ebe547a9c9b692_jpg.rf.d5caca6c6352c358873e2bcbe08dcb3e.jpg: ignoring corrupt image/label: Label class 12 exceeds dataset class count 12. Possible class labels are 0-11\n",
      "\u001b[34m\u001b[1mtrain: \u001b[0mD:\\coding\\Applied-DL\\Chess-Analytics-Model\\data\\train\\images\\4eb630d4dd38528dacf72355caf5c06d_jpg.rf.542d02f24b1238b2b8ddf7e63669c6f1.jpg: ignoring corrupt image/label: Label class 12 exceeds dataset class count 12. Possible class labels are 0-11\n",
      "\u001b[34m\u001b[1mtrain: \u001b[0mD:\\coding\\Applied-DL\\Chess-Analytics-Model\\data\\train\\images\\4eb630d4dd38528dacf72355caf5c06d_jpg.rf.aa4d36c64699330596d6503653e43b00.jpg: ignoring corrupt image/label: Label class 12 exceeds dataset class count 12. Possible class labels are 0-11\n",
      "\u001b[34m\u001b[1mtrain: \u001b[0mD:\\coding\\Applied-DL\\Chess-Analytics-Model\\data\\train\\images\\4eb630d4dd38528dacf72355caf5c06d_jpg.rf.d291d9ff254a5001b29ef8ce2d722509.jpg: ignoring corrupt image/label: Label class 12 exceeds dataset class count 12. Possible class labels are 0-11\n",
      "\u001b[34m\u001b[1mtrain: \u001b[0mD:\\coding\\Applied-DL\\Chess-Analytics-Model\\data\\train\\images\\53de0674524ae6d77bdfff48136dec2a_jpg.rf.108f3dd477ce61cd4f9251ab967b9ed5.jpg: ignoring corrupt image/label: Label class 12 exceeds dataset class count 12. Possible class labels are 0-11\n",
      "\u001b[34m\u001b[1mtrain: \u001b[0mD:\\coding\\Applied-DL\\Chess-Analytics-Model\\data\\train\\images\\53de0674524ae6d77bdfff48136dec2a_jpg.rf.418e577139ae88cec5118571c10db894.jpg: ignoring corrupt image/label: Label class 12 exceeds dataset class count 12. Possible class labels are 0-11\n",
      "\u001b[34m\u001b[1mtrain: \u001b[0mD:\\coding\\Applied-DL\\Chess-Analytics-Model\\data\\train\\images\\53de0674524ae6d77bdfff48136dec2a_jpg.rf.bd9646f1a26121fe3ab5d9ee21242c82.jpg: ignoring corrupt image/label: Label class 12 exceeds dataset class count 12. Possible class labels are 0-11\n",
      "\u001b[34m\u001b[1mtrain: \u001b[0mD:\\coding\\Applied-DL\\Chess-Analytics-Model\\data\\train\\images\\54a90aab8c73562975cc560d51a9d2d1_jpg.rf.3de5a183732df4464edd9264ff210593.jpg: ignoring corrupt image/label: Label class 12 exceeds dataset class count 12. Possible class labels are 0-11\n",
      "\u001b[34m\u001b[1mtrain: \u001b[0mD:\\coding\\Applied-DL\\Chess-Analytics-Model\\data\\train\\images\\54a90aab8c73562975cc560d51a9d2d1_jpg.rf.6d2f9f9d7b95d619880e632d994d535f.jpg: ignoring corrupt image/label: Label class 12 exceeds dataset class count 12. Possible class labels are 0-11\n",
      "\u001b[34m\u001b[1mtrain: \u001b[0mD:\\coding\\Applied-DL\\Chess-Analytics-Model\\data\\train\\images\\54a90aab8c73562975cc560d51a9d2d1_jpg.rf.f081bba0a3c5e5e14c0b6bd94992465f.jpg: ignoring corrupt image/label: Label class 12 exceeds dataset class count 12. Possible class labels are 0-11\n",
      "\u001b[34m\u001b[1mtrain: \u001b[0mD:\\coding\\Applied-DL\\Chess-Analytics-Model\\data\\train\\images\\5cecd3b3946aac5c713a51e0bd4617c9_jpg.rf.95fed532326e22f1bc20ee6f4768fb46.jpg: ignoring corrupt image/label: Label class 12 exceeds dataset class count 12. Possible class labels are 0-11\n",
      "\u001b[34m\u001b[1mtrain: \u001b[0mD:\\coding\\Applied-DL\\Chess-Analytics-Model\\data\\train\\images\\5cecd3b3946aac5c713a51e0bd4617c9_jpg.rf.b6acbacc6e21614897ae17bfc1610149.jpg: ignoring corrupt image/label: Label class 12 exceeds dataset class count 12. Possible class labels are 0-11\n",
      "\u001b[34m\u001b[1mtrain: \u001b[0mD:\\coding\\Applied-DL\\Chess-Analytics-Model\\data\\train\\images\\5cecd3b3946aac5c713a51e0bd4617c9_jpg.rf.e3e350b59dff7927d46041502756c8f3.jpg: ignoring corrupt image/label: Label class 12 exceeds dataset class count 12. Possible class labels are 0-11\n",
      "\u001b[34m\u001b[1mtrain: \u001b[0mD:\\coding\\Applied-DL\\Chess-Analytics-Model\\data\\train\\images\\614aadadb4a7f5b475b027b8e11398ee_jpg.rf.01b40c037e8cf1ff49c740244753af5a.jpg: ignoring corrupt image/label: Label class 12 exceeds dataset class count 12. Possible class labels are 0-11\n",
      "\u001b[34m\u001b[1mtrain: \u001b[0mD:\\coding\\Applied-DL\\Chess-Analytics-Model\\data\\train\\images\\614aadadb4a7f5b475b027b8e11398ee_jpg.rf.04c134d966574ad5fdcacfb8ab619fd6.jpg: ignoring corrupt image/label: Label class 12 exceeds dataset class count 12. Possible class labels are 0-11\n",
      "\u001b[34m\u001b[1mtrain: \u001b[0mD:\\coding\\Applied-DL\\Chess-Analytics-Model\\data\\train\\images\\614aadadb4a7f5b475b027b8e11398ee_jpg.rf.9c328189083b33832b90aa43f1de101d.jpg: ignoring corrupt image/label: Label class 12 exceeds dataset class count 12. Possible class labels are 0-11\n",
      "\u001b[34m\u001b[1mtrain: \u001b[0mD:\\coding\\Applied-DL\\Chess-Analytics-Model\\data\\train\\images\\61567b97353acc18ba9e8aac0f111326_jpg.rf.5765711e8acd7531ab0b7c5df47febf7.jpg: ignoring corrupt image/label: Label class 12 exceeds dataset class count 12. Possible class labels are 0-11\n",
      "\u001b[34m\u001b[1mtrain: \u001b[0mD:\\coding\\Applied-DL\\Chess-Analytics-Model\\data\\train\\images\\61567b97353acc18ba9e8aac0f111326_jpg.rf.94cec1f562c9e5d3eb3b3544eecc72a0.jpg: ignoring corrupt image/label: Label class 12 exceeds dataset class count 12. Possible class labels are 0-11\n",
      "\u001b[34m\u001b[1mtrain: \u001b[0mD:\\coding\\Applied-DL\\Chess-Analytics-Model\\data\\train\\images\\61567b97353acc18ba9e8aac0f111326_jpg.rf.9744632c3305a0e7db1b8035a4cd3f5f.jpg: ignoring corrupt image/label: Label class 12 exceeds dataset class count 12. Possible class labels are 0-11\n",
      "\u001b[34m\u001b[1mtrain: \u001b[0mD:\\coding\\Applied-DL\\Chess-Analytics-Model\\data\\train\\images\\6179b463c8f503445e213b706d2a4de5_jpg.rf.60047d46835605a44d1373c2fbc9d86a.jpg: ignoring corrupt image/label: Label class 12 exceeds dataset class count 12. Possible class labels are 0-11\n",
      "\u001b[34m\u001b[1mtrain: \u001b[0mD:\\coding\\Applied-DL\\Chess-Analytics-Model\\data\\train\\images\\6179b463c8f503445e213b706d2a4de5_jpg.rf.6dad401212f974d778d11ec908ef1845.jpg: ignoring corrupt image/label: Label class 12 exceeds dataset class count 12. Possible class labels are 0-11\n",
      "\u001b[34m\u001b[1mtrain: \u001b[0mD:\\coding\\Applied-DL\\Chess-Analytics-Model\\data\\train\\images\\6179b463c8f503445e213b706d2a4de5_jpg.rf.8d422c23f907d10ba6ce02a34fc3e32e.jpg: ignoring corrupt image/label: Label class 12 exceeds dataset class count 12. Possible class labels are 0-11\n",
      "\u001b[34m\u001b[1mtrain: \u001b[0mD:\\coding\\Applied-DL\\Chess-Analytics-Model\\data\\train\\images\\6589f4cfb37439d7d276f0d70f7ee1f0_jpg.rf.5e07c88452d0555565cf271ea458a66e.jpg: ignoring corrupt image/label: Label class 12 exceeds dataset class count 12. Possible class labels are 0-11\n",
      "\u001b[34m\u001b[1mtrain: \u001b[0mD:\\coding\\Applied-DL\\Chess-Analytics-Model\\data\\train\\images\\6589f4cfb37439d7d276f0d70f7ee1f0_jpg.rf.7cd0c647da853363af83fd4223c78dee.jpg: ignoring corrupt image/label: Label class 12 exceeds dataset class count 12. Possible class labels are 0-11\n",
      "\u001b[34m\u001b[1mtrain: \u001b[0mD:\\coding\\Applied-DL\\Chess-Analytics-Model\\data\\train\\images\\6589f4cfb37439d7d276f0d70f7ee1f0_jpg.rf.fb12b9c28e07eb3813f431bca229ef56.jpg: ignoring corrupt image/label: Label class 12 exceeds dataset class count 12. Possible class labels are 0-11\n",
      "\u001b[34m\u001b[1mtrain: \u001b[0mD:\\coding\\Applied-DL\\Chess-Analytics-Model\\data\\train\\images\\65ba27557c78850168b1df70a3ce4ff7_jpg.rf.1431d99ebaf30d4ecb2764af7d18a452.jpg: ignoring corrupt image/label: Label class 12 exceeds dataset class count 12. Possible class labels are 0-11\n",
      "\u001b[34m\u001b[1mtrain: \u001b[0mD:\\coding\\Applied-DL\\Chess-Analytics-Model\\data\\train\\images\\65ba27557c78850168b1df70a3ce4ff7_jpg.rf.30a3ce572eb4c0a6cdbc01380dd7e390.jpg: ignoring corrupt image/label: Label class 12 exceeds dataset class count 12. Possible class labels are 0-11\n",
      "\u001b[34m\u001b[1mtrain: \u001b[0mD:\\coding\\Applied-DL\\Chess-Analytics-Model\\data\\train\\images\\65ba27557c78850168b1df70a3ce4ff7_jpg.rf.81006b590b068c8c93153e7f18a20c1f.jpg: ignoring corrupt image/label: Label class 12 exceeds dataset class count 12. Possible class labels are 0-11\n",
      "\u001b[34m\u001b[1mtrain: \u001b[0mD:\\coding\\Applied-DL\\Chess-Analytics-Model\\data\\train\\images\\6ba74e310dd824af891d057d674cedb9_jpg.rf.08dafde0b81de46e57122cc80a5cdc80.jpg: ignoring corrupt image/label: Label class 12 exceeds dataset class count 12. Possible class labels are 0-11\n",
      "\u001b[34m\u001b[1mtrain: \u001b[0mD:\\coding\\Applied-DL\\Chess-Analytics-Model\\data\\train\\images\\6ba74e310dd824af891d057d674cedb9_jpg.rf.1a5dc9d3dcc29d0b47f898d0d5c06868.jpg: ignoring corrupt image/label: Label class 12 exceeds dataset class count 12. Possible class labels are 0-11\n",
      "\u001b[34m\u001b[1mtrain: \u001b[0mD:\\coding\\Applied-DL\\Chess-Analytics-Model\\data\\train\\images\\6ba74e310dd824af891d057d674cedb9_jpg.rf.2538782d08f7ce2bebeb479450f67a8b.jpg: ignoring corrupt image/label: Label class 12 exceeds dataset class count 12. Possible class labels are 0-11\n",
      "\u001b[34m\u001b[1mtrain: \u001b[0mD:\\coding\\Applied-DL\\Chess-Analytics-Model\\data\\train\\images\\76d01bada90581f55f1ae64c062cafcf_jpg.rf.7104e065b387e61376bafda059671616.jpg: ignoring corrupt image/label: Label class 12 exceeds dataset class count 12. Possible class labels are 0-11\n",
      "\u001b[34m\u001b[1mtrain: \u001b[0mD:\\coding\\Applied-DL\\Chess-Analytics-Model\\data\\train\\images\\76d01bada90581f55f1ae64c062cafcf_jpg.rf.f2bd2d4d062181b36c9a9159de7090ae.jpg: ignoring corrupt image/label: Label class 12 exceeds dataset class count 12. Possible class labels are 0-11\n",
      "\u001b[34m\u001b[1mtrain: \u001b[0mD:\\coding\\Applied-DL\\Chess-Analytics-Model\\data\\train\\images\\76d01bada90581f55f1ae64c062cafcf_jpg.rf.f3d7a25fb4f47eb56b7affa5673c14f7.jpg: ignoring corrupt image/label: Label class 12 exceeds dataset class count 12. Possible class labels are 0-11\n",
      "\u001b[34m\u001b[1mtrain: \u001b[0mD:\\coding\\Applied-DL\\Chess-Analytics-Model\\data\\train\\images\\76dbe2ccf986a2a0d399d3d8a47279ad_jpg.rf.26886d4d35f2aefff108d7aaf1cb37db.jpg: ignoring corrupt image/label: Label class 12 exceeds dataset class count 12. Possible class labels are 0-11\n",
      "\u001b[34m\u001b[1mtrain: \u001b[0mD:\\coding\\Applied-DL\\Chess-Analytics-Model\\data\\train\\images\\76dbe2ccf986a2a0d399d3d8a47279ad_jpg.rf.b1ca3d77f5a92e76eb13e448042398fb.jpg: ignoring corrupt image/label: Label class 12 exceeds dataset class count 12. Possible class labels are 0-11\n",
      "\u001b[34m\u001b[1mtrain: \u001b[0mD:\\coding\\Applied-DL\\Chess-Analytics-Model\\data\\train\\images\\76dbe2ccf986a2a0d399d3d8a47279ad_jpg.rf.b422f9fa12f7008b3ed897977e7d4948.jpg: ignoring corrupt image/label: Label class 12 exceeds dataset class count 12. Possible class labels are 0-11\n",
      "\u001b[34m\u001b[1mtrain: \u001b[0mD:\\coding\\Applied-DL\\Chess-Analytics-Model\\data\\train\\images\\7df16cd59fb40e0691948cc805e4801b_jpg.rf.286df02ab2343ae37cddc443b06feccd.jpg: ignoring corrupt image/label: Label class 12 exceeds dataset class count 12. Possible class labels are 0-11\n",
      "\u001b[34m\u001b[1mtrain: \u001b[0mD:\\coding\\Applied-DL\\Chess-Analytics-Model\\data\\train\\images\\7df16cd59fb40e0691948cc805e4801b_jpg.rf.69645d63d7ad1dcadfcb6fef8d88cbae.jpg: ignoring corrupt image/label: Label class 12 exceeds dataset class count 12. Possible class labels are 0-11\n",
      "\u001b[34m\u001b[1mtrain: \u001b[0mD:\\coding\\Applied-DL\\Chess-Analytics-Model\\data\\train\\images\\7df16cd59fb40e0691948cc805e4801b_jpg.rf.8c289f8d3498de860c1c990873892987.jpg: ignoring corrupt image/label: Label class 12 exceeds dataset class count 12. Possible class labels are 0-11\n",
      "\u001b[34m\u001b[1mtrain: \u001b[0mD:\\coding\\Applied-DL\\Chess-Analytics-Model\\data\\train\\images\\7ee8d13861bdc45e40a7cfe190a8d8a6_jpg.rf.a8231ed0a104c2558156dc1efa5deaa4.jpg: ignoring corrupt image/label: Label class 12 exceeds dataset class count 12. Possible class labels are 0-11\n",
      "\u001b[34m\u001b[1mtrain: \u001b[0mD:\\coding\\Applied-DL\\Chess-Analytics-Model\\data\\train\\images\\7ee8d13861bdc45e40a7cfe190a8d8a6_jpg.rf.a866a35bb9ecd0567a6123b53152565f.jpg: ignoring corrupt image/label: Label class 12 exceeds dataset class count 12. Possible class labels are 0-11\n",
      "\u001b[34m\u001b[1mtrain: \u001b[0mD:\\coding\\Applied-DL\\Chess-Analytics-Model\\data\\train\\images\\7ee8d13861bdc45e40a7cfe190a8d8a6_jpg.rf.d2b41f1d0bdb7f0bf1055dfa6902e7fd.jpg: ignoring corrupt image/label: Label class 12 exceeds dataset class count 12. Possible class labels are 0-11\n",
      "\u001b[34m\u001b[1mtrain: \u001b[0mD:\\coding\\Applied-DL\\Chess-Analytics-Model\\data\\train\\images\\81f5c542ffe0f9eae4df59d29acbcced_jpg.rf.0a5ee623a389c32b7ede54f7b9d1bd20.jpg: ignoring corrupt image/label: Label class 12 exceeds dataset class count 12. Possible class labels are 0-11\n",
      "\u001b[34m\u001b[1mtrain: \u001b[0mD:\\coding\\Applied-DL\\Chess-Analytics-Model\\data\\train\\images\\81f5c542ffe0f9eae4df59d29acbcced_jpg.rf.61fced727ced7c4956b023b20c423500.jpg: ignoring corrupt image/label: Label class 12 exceeds dataset class count 12. Possible class labels are 0-11\n",
      "\u001b[34m\u001b[1mtrain: \u001b[0mD:\\coding\\Applied-DL\\Chess-Analytics-Model\\data\\train\\images\\81f5c542ffe0f9eae4df59d29acbcced_jpg.rf.91a87f1144d3374bcc23d457e1499b50.jpg: ignoring corrupt image/label: Label class 12 exceeds dataset class count 12. Possible class labels are 0-11\n",
      "\u001b[34m\u001b[1mtrain: \u001b[0mD:\\coding\\Applied-DL\\Chess-Analytics-Model\\data\\train\\images\\859e7157c6d544236a67463c08169b6e_jpg.rf.4021cc08bfe2940ac1246a952028554f.jpg: ignoring corrupt image/label: Label class 12 exceeds dataset class count 12. Possible class labels are 0-11\n",
      "\u001b[34m\u001b[1mtrain: \u001b[0mD:\\coding\\Applied-DL\\Chess-Analytics-Model\\data\\train\\images\\859e7157c6d544236a67463c08169b6e_jpg.rf.4136782db50a3ab23736edbd04956068.jpg: ignoring corrupt image/label: Label class 12 exceeds dataset class count 12. Possible class labels are 0-11\n",
      "\u001b[34m\u001b[1mtrain: \u001b[0mD:\\coding\\Applied-DL\\Chess-Analytics-Model\\data\\train\\images\\859e7157c6d544236a67463c08169b6e_jpg.rf.ab489bf688838056d6bd5f713ada144a.jpg: ignoring corrupt image/label: Label class 12 exceeds dataset class count 12. Possible class labels are 0-11\n",
      "\u001b[34m\u001b[1mtrain: \u001b[0mD:\\coding\\Applied-DL\\Chess-Analytics-Model\\data\\train\\images\\871597c145446cf58c1c2dd7db988864_jpg.rf.33a0386e35eceaf1f5ecca1169b3fe9f.jpg: ignoring corrupt image/label: Label class 12 exceeds dataset class count 12. Possible class labels are 0-11\n",
      "\u001b[34m\u001b[1mtrain: \u001b[0mD:\\coding\\Applied-DL\\Chess-Analytics-Model\\data\\train\\images\\871597c145446cf58c1c2dd7db988864_jpg.rf.418632a00632006cb8d4b1c72f9d7777.jpg: ignoring corrupt image/label: Label class 12 exceeds dataset class count 12. Possible class labels are 0-11\n",
      "\u001b[34m\u001b[1mtrain: \u001b[0mD:\\coding\\Applied-DL\\Chess-Analytics-Model\\data\\train\\images\\871597c145446cf58c1c2dd7db988864_jpg.rf.752f5219f9020f0070ef1aaa764901ed.jpg: ignoring corrupt image/label: Label class 12 exceeds dataset class count 12. Possible class labels are 0-11\n",
      "\u001b[34m\u001b[1mtrain: \u001b[0mD:\\coding\\Applied-DL\\Chess-Analytics-Model\\data\\train\\images\\889c420fb266b8d0e817306110042bda_jpg.rf.2b64d4f77790efe5b99a89dbc008d2fa.jpg: ignoring corrupt image/label: Label class 12 exceeds dataset class count 12. Possible class labels are 0-11\n",
      "\u001b[34m\u001b[1mtrain: \u001b[0mD:\\coding\\Applied-DL\\Chess-Analytics-Model\\data\\train\\images\\889c420fb266b8d0e817306110042bda_jpg.rf.8b7244d128b2eaa4e64c6bc4a1649911.jpg: ignoring corrupt image/label: Label class 12 exceeds dataset class count 12. Possible class labels are 0-11\n",
      "\u001b[34m\u001b[1mtrain: \u001b[0mD:\\coding\\Applied-DL\\Chess-Analytics-Model\\data\\train\\images\\889c420fb266b8d0e817306110042bda_jpg.rf.e94a6dd83fdb1bba12f4a84b1388fa86.jpg: ignoring corrupt image/label: Label class 12 exceeds dataset class count 12. Possible class labels are 0-11\n",
      "\u001b[34m\u001b[1mtrain: \u001b[0mD:\\coding\\Applied-DL\\Chess-Analytics-Model\\data\\train\\images\\8967433350d3b3043902603430fccaab_jpg.rf.144e0920a0999b5329faa86297b2511b.jpg: ignoring corrupt image/label: Label class 12 exceeds dataset class count 12. Possible class labels are 0-11\n",
      "\u001b[34m\u001b[1mtrain: \u001b[0mD:\\coding\\Applied-DL\\Chess-Analytics-Model\\data\\train\\images\\8967433350d3b3043902603430fccaab_jpg.rf.58236ac06d7679220b6db7050d8b783d.jpg: ignoring corrupt image/label: Label class 12 exceeds dataset class count 12. Possible class labels are 0-11\n",
      "\u001b[34m\u001b[1mtrain: \u001b[0mD:\\coding\\Applied-DL\\Chess-Analytics-Model\\data\\train\\images\\8967433350d3b3043902603430fccaab_jpg.rf.ed0a29dbaaa3cfed939b63f420cbe09e.jpg: ignoring corrupt image/label: Label class 12 exceeds dataset class count 12. Possible class labels are 0-11\n",
      "\u001b[34m\u001b[1mtrain: \u001b[0mD:\\coding\\Applied-DL\\Chess-Analytics-Model\\data\\train\\images\\8de03901c64a80070048ead3fb0d32bd_jpg.rf.3bdcf5223918218765c685e65d8efd1e.jpg: ignoring corrupt image/label: Label class 12 exceeds dataset class count 12. Possible class labels are 0-11\n",
      "\u001b[34m\u001b[1mtrain: \u001b[0mD:\\coding\\Applied-DL\\Chess-Analytics-Model\\data\\train\\images\\8de03901c64a80070048ead3fb0d32bd_jpg.rf.84141f105064b57f9714500f7927f2a4.jpg: ignoring corrupt image/label: Label class 12 exceeds dataset class count 12. Possible class labels are 0-11\n",
      "\u001b[34m\u001b[1mtrain: \u001b[0mD:\\coding\\Applied-DL\\Chess-Analytics-Model\\data\\train\\images\\8de03901c64a80070048ead3fb0d32bd_jpg.rf.e4be065937a901b047ab7894c2fff35a.jpg: ignoring corrupt image/label: Label class 12 exceeds dataset class count 12. Possible class labels are 0-11\n",
      "\u001b[34m\u001b[1mtrain: \u001b[0mD:\\coding\\Applied-DL\\Chess-Analytics-Model\\data\\train\\images\\8f84f1945fd993facc3368d13345f333_jpg.rf.0b7d4817639d4820d53a3a92bff52578.jpg: ignoring corrupt image/label: Label class 12 exceeds dataset class count 12. Possible class labels are 0-11\n",
      "\u001b[34m\u001b[1mtrain: \u001b[0mD:\\coding\\Applied-DL\\Chess-Analytics-Model\\data\\train\\images\\8f84f1945fd993facc3368d13345f333_jpg.rf.2dd383bee798d213527485d1ca3243e9.jpg: ignoring corrupt image/label: Label class 12 exceeds dataset class count 12. Possible class labels are 0-11\n",
      "\u001b[34m\u001b[1mtrain: \u001b[0mD:\\coding\\Applied-DL\\Chess-Analytics-Model\\data\\train\\images\\8f84f1945fd993facc3368d13345f333_jpg.rf.506d20c9cd61cb9f88aa962af2e924f7.jpg: ignoring corrupt image/label: Label class 12 exceeds dataset class count 12. Possible class labels are 0-11\n",
      "\u001b[34m\u001b[1mtrain: \u001b[0mD:\\coding\\Applied-DL\\Chess-Analytics-Model\\data\\train\\images\\93557fc861304f7753089c244bc1e33e_jpg.rf.2eb582969dccb15da9e2a7436c58e214.jpg: ignoring corrupt image/label: Label class 12 exceeds dataset class count 12. Possible class labels are 0-11\n",
      "\u001b[34m\u001b[1mtrain: \u001b[0mD:\\coding\\Applied-DL\\Chess-Analytics-Model\\data\\train\\images\\93557fc861304f7753089c244bc1e33e_jpg.rf.81179eea89bb8b659cece59aefb29a3f.jpg: ignoring corrupt image/label: Label class 12 exceeds dataset class count 12. Possible class labels are 0-11\n",
      "\u001b[34m\u001b[1mtrain: \u001b[0mD:\\coding\\Applied-DL\\Chess-Analytics-Model\\data\\train\\images\\93557fc861304f7753089c244bc1e33e_jpg.rf.b322a75dd276455b652411e28eae9d28.jpg: ignoring corrupt image/label: Label class 12 exceeds dataset class count 12. Possible class labels are 0-11\n",
      "\u001b[34m\u001b[1mtrain: \u001b[0mD:\\coding\\Applied-DL\\Chess-Analytics-Model\\data\\train\\images\\969daa72bd7804ea1212e191820249b0_jpg.rf.416287a296a7712c4a7e15dfebe71ba6.jpg: ignoring corrupt image/label: Label class 12 exceeds dataset class count 12. Possible class labels are 0-11\n",
      "\u001b[34m\u001b[1mtrain: \u001b[0mD:\\coding\\Applied-DL\\Chess-Analytics-Model\\data\\train\\images\\969daa72bd7804ea1212e191820249b0_jpg.rf.ba89164a5a6707326ca30fa4d44c0414.jpg: ignoring corrupt image/label: Label class 12 exceeds dataset class count 12. Possible class labels are 0-11\n",
      "\u001b[34m\u001b[1mtrain: \u001b[0mD:\\coding\\Applied-DL\\Chess-Analytics-Model\\data\\train\\images\\969daa72bd7804ea1212e191820249b0_jpg.rf.d8d404aa7f784c9d9a80dd9a567b62f8.jpg: ignoring corrupt image/label: Label class 12 exceeds dataset class count 12. Possible class labels are 0-11\n",
      "\u001b[34m\u001b[1mtrain: \u001b[0mD:\\coding\\Applied-DL\\Chess-Analytics-Model\\data\\train\\images\\97aeb1f9b745a929e9ac0848acb53a1a_jpg.rf.3284f8666d6a9be6075774c73ec06ac4.jpg: ignoring corrupt image/label: Label class 12 exceeds dataset class count 12. Possible class labels are 0-11\n",
      "\u001b[34m\u001b[1mtrain: \u001b[0mD:\\coding\\Applied-DL\\Chess-Analytics-Model\\data\\train\\images\\97aeb1f9b745a929e9ac0848acb53a1a_jpg.rf.940a166aa673e2d31ccd5d2e2f21b3b2.jpg: ignoring corrupt image/label: Label class 12 exceeds dataset class count 12. Possible class labels are 0-11\n",
      "\u001b[34m\u001b[1mtrain: \u001b[0mD:\\coding\\Applied-DL\\Chess-Analytics-Model\\data\\train\\images\\97aeb1f9b745a929e9ac0848acb53a1a_jpg.rf.e56d342ac870ddbd53d31ee88c69f1be.jpg: ignoring corrupt image/label: Label class 12 exceeds dataset class count 12. Possible class labels are 0-11\n",
      "\u001b[34m\u001b[1mtrain: \u001b[0mD:\\coding\\Applied-DL\\Chess-Analytics-Model\\data\\train\\images\\9962a4d44388b9008aa0f466e4f4052c_jpg.rf.271e62fd6244a808feddc27148f4f5ab.jpg: ignoring corrupt image/label: Label class 12 exceeds dataset class count 12. Possible class labels are 0-11\n",
      "\u001b[34m\u001b[1mtrain: \u001b[0mD:\\coding\\Applied-DL\\Chess-Analytics-Model\\data\\train\\images\\9962a4d44388b9008aa0f466e4f4052c_jpg.rf.5335c3722d3fe9b709488d492cd5c49f.jpg: ignoring corrupt image/label: Label class 12 exceeds dataset class count 12. Possible class labels are 0-11\n",
      "\u001b[34m\u001b[1mtrain: \u001b[0mD:\\coding\\Applied-DL\\Chess-Analytics-Model\\data\\train\\images\\9962a4d44388b9008aa0f466e4f4052c_jpg.rf.e631892cbc08c42fce1df2203b2a0320.jpg: ignoring corrupt image/label: Label class 12 exceeds dataset class count 12. Possible class labels are 0-11\n",
      "\u001b[34m\u001b[1mtrain: \u001b[0mD:\\coding\\Applied-DL\\Chess-Analytics-Model\\data\\train\\images\\9c5fb0c3cfd7b334a247cd87c139e8e6_jpg.rf.325734823f668518210b618ac6d105e4.jpg: ignoring corrupt image/label: Label class 12 exceeds dataset class count 12. Possible class labels are 0-11\n",
      "\u001b[34m\u001b[1mtrain: \u001b[0mD:\\coding\\Applied-DL\\Chess-Analytics-Model\\data\\train\\images\\9c5fb0c3cfd7b334a247cd87c139e8e6_jpg.rf.904c4ab6f7ac3d6c2ab134394b00e632.jpg: ignoring corrupt image/label: Label class 12 exceeds dataset class count 12. Possible class labels are 0-11\n",
      "\u001b[34m\u001b[1mtrain: \u001b[0mD:\\coding\\Applied-DL\\Chess-Analytics-Model\\data\\train\\images\\9c5fb0c3cfd7b334a247cd87c139e8e6_jpg.rf.d1b91f7c6433bd582e4e4859d618aaa6.jpg: ignoring corrupt image/label: Label class 12 exceeds dataset class count 12. Possible class labels are 0-11\n",
      "\u001b[34m\u001b[1mtrain: \u001b[0mD:\\coding\\Applied-DL\\Chess-Analytics-Model\\data\\train\\images\\9d776e74e90c4f8092b060dd7567e2f8_jpg.rf.23bd3ffda19846a2c63afa0af7313f1c.jpg: ignoring corrupt image/label: Label class 12 exceeds dataset class count 12. Possible class labels are 0-11\n",
      "\u001b[34m\u001b[1mtrain: \u001b[0mD:\\coding\\Applied-DL\\Chess-Analytics-Model\\data\\train\\images\\9d776e74e90c4f8092b060dd7567e2f8_jpg.rf.660c681198650e419a8e8102c9353655.jpg: ignoring corrupt image/label: Label class 12 exceeds dataset class count 12. Possible class labels are 0-11\n",
      "\u001b[34m\u001b[1mtrain: \u001b[0mD:\\coding\\Applied-DL\\Chess-Analytics-Model\\data\\train\\images\\9d776e74e90c4f8092b060dd7567e2f8_jpg.rf.e56c4f14986b14ecae9d9693766bbb09.jpg: ignoring corrupt image/label: Label class 12 exceeds dataset class count 12. Possible class labels are 0-11\n",
      "\u001b[34m\u001b[1mtrain: \u001b[0mD:\\coding\\Applied-DL\\Chess-Analytics-Model\\data\\train\\images\\IMG_0166_JPG.rf.1b943996d63e88f793c9225b051e88aa.jpg: ignoring corrupt image/label: Label class 12 exceeds dataset class count 12. Possible class labels are 0-11\n",
      "\u001b[34m\u001b[1mtrain: \u001b[0mD:\\coding\\Applied-DL\\Chess-Analytics-Model\\data\\train\\images\\IMG_0166_JPG.rf.5496677843330113f25e1d96d9e5501c.jpg: ignoring corrupt image/label: Label class 12 exceeds dataset class count 12. Possible class labels are 0-11\n",
      "\u001b[34m\u001b[1mtrain: \u001b[0mD:\\coding\\Applied-DL\\Chess-Analytics-Model\\data\\train\\images\\IMG_0166_JPG.rf.866e83ca31acd30da2673fcb7e2abbfe.jpg: ignoring corrupt image/label: Label class 12 exceeds dataset class count 12. Possible class labels are 0-11\n",
      "\u001b[34m\u001b[1mtrain: \u001b[0mD:\\coding\\Applied-DL\\Chess-Analytics-Model\\data\\train\\images\\IMG_0167_JPG.rf.51e844ec48d744ea0d541c3978e68c8f.jpg: ignoring corrupt image/label: Label class 12 exceeds dataset class count 12. Possible class labels are 0-11\n",
      "\u001b[34m\u001b[1mtrain: \u001b[0mD:\\coding\\Applied-DL\\Chess-Analytics-Model\\data\\train\\images\\IMG_0167_JPG.rf.5ef94865f654a98f644c83ec15c0c7f0.jpg: ignoring corrupt image/label: Label class 12 exceeds dataset class count 12. Possible class labels are 0-11\n",
      "\u001b[34m\u001b[1mtrain: \u001b[0mD:\\coding\\Applied-DL\\Chess-Analytics-Model\\data\\train\\images\\IMG_0167_JPG.rf.700e471552dde4992d80e528387e102f.jpg: ignoring corrupt image/label: Label class 12 exceeds dataset class count 12. Possible class labels are 0-11\n",
      "\u001b[34m\u001b[1mtrain: \u001b[0mD:\\coding\\Applied-DL\\Chess-Analytics-Model\\data\\train\\images\\IMG_0291_JPG.rf.0c3ecbe3fa43d54ee4fbee9f4be3c957.jpg: ignoring corrupt image/label: Label class 12 exceeds dataset class count 12. Possible class labels are 0-11\n",
      "\u001b[34m\u001b[1mtrain: \u001b[0mD:\\coding\\Applied-DL\\Chess-Analytics-Model\\data\\train\\images\\IMG_0291_JPG.rf.d2ba6353082aa25c15708824c08dfb27.jpg: ignoring corrupt image/label: Label class 12 exceeds dataset class count 12. Possible class labels are 0-11\n",
      "\u001b[34m\u001b[1mtrain: \u001b[0mD:\\coding\\Applied-DL\\Chess-Analytics-Model\\data\\train\\images\\IMG_0291_JPG.rf.df9096730aa1a08ad2999bcd27d3ce48.jpg: ignoring corrupt image/label: Label class 12 exceeds dataset class count 12. Possible class labels are 0-11\n",
      "\u001b[34m\u001b[1mtrain: \u001b[0mD:\\coding\\Applied-DL\\Chess-Analytics-Model\\data\\train\\images\\IMG_0292_JPG.rf.430049672fd781b9df9e34badf1b48a8.jpg: ignoring corrupt image/label: Label class 12 exceeds dataset class count 12. Possible class labels are 0-11\n",
      "\u001b[34m\u001b[1mtrain: \u001b[0mD:\\coding\\Applied-DL\\Chess-Analytics-Model\\data\\train\\images\\IMG_0292_JPG.rf.5eba9597d38f1d22018bb5d619ef742e.jpg: ignoring corrupt image/label: Label class 12 exceeds dataset class count 12. Possible class labels are 0-11\n",
      "\u001b[34m\u001b[1mtrain: \u001b[0mD:\\coding\\Applied-DL\\Chess-Analytics-Model\\data\\train\\images\\IMG_0292_JPG.rf.baaccc7cf58cb3b0c9d1bc3f1ce32a3d.jpg: ignoring corrupt image/label: Label class 12 exceeds dataset class count 12. Possible class labels are 0-11\n",
      "\u001b[34m\u001b[1mtrain: \u001b[0mD:\\coding\\Applied-DL\\Chess-Analytics-Model\\data\\train\\images\\IMG_0294_JPG.rf.517f9201b72a4266d46b2954a0f80c14.jpg: ignoring corrupt image/label: Label class 12 exceeds dataset class count 12. Possible class labels are 0-11\n",
      "\u001b[34m\u001b[1mtrain: \u001b[0mD:\\coding\\Applied-DL\\Chess-Analytics-Model\\data\\train\\images\\IMG_0294_JPG.rf.bd8d20acd3d837e056c6714500e83270.jpg: ignoring corrupt image/label: Label class 12 exceeds dataset class count 12. Possible class labels are 0-11\n",
      "\u001b[34m\u001b[1mtrain: \u001b[0mD:\\coding\\Applied-DL\\Chess-Analytics-Model\\data\\train\\images\\IMG_0294_JPG.rf.cb349f708d70f8f46097636ec55f5419.jpg: ignoring corrupt image/label: Label class 12 exceeds dataset class count 12. Possible class labels are 0-11\n",
      "\u001b[34m\u001b[1mtrain: \u001b[0mD:\\coding\\Applied-DL\\Chess-Analytics-Model\\data\\train\\images\\IMG_0295_JPG.rf.282c3259eadee31b6cfd1548f0aa4e6d.jpg: ignoring corrupt image/label: Label class 12 exceeds dataset class count 12. Possible class labels are 0-11\n",
      "\u001b[34m\u001b[1mtrain: \u001b[0mD:\\coding\\Applied-DL\\Chess-Analytics-Model\\data\\train\\images\\IMG_0295_JPG.rf.32f999d96696f80ebe62ade6437b2fe2.jpg: ignoring corrupt image/label: Label class 12 exceeds dataset class count 12. Possible class labels are 0-11\n",
      "\u001b[34m\u001b[1mtrain: \u001b[0mD:\\coding\\Applied-DL\\Chess-Analytics-Model\\data\\train\\images\\IMG_0295_JPG.rf.939fab6c2495e85e1b177306373fbe6e.jpg: ignoring corrupt image/label: Label class 12 exceeds dataset class count 12. Possible class labels are 0-11\n",
      "\u001b[34m\u001b[1mtrain: \u001b[0mD:\\coding\\Applied-DL\\Chess-Analytics-Model\\data\\train\\images\\IMG_0296_JPG.rf.530c25c318deab34b53cadb7918fa500.jpg: ignoring corrupt image/label: Label class 12 exceeds dataset class count 12. Possible class labels are 0-11\n",
      "\u001b[34m\u001b[1mtrain: \u001b[0mD:\\coding\\Applied-DL\\Chess-Analytics-Model\\data\\train\\images\\IMG_0296_JPG.rf.e8332a65a587b3f337f25bca237988af.jpg: ignoring corrupt image/label: Label class 12 exceeds dataset class count 12. Possible class labels are 0-11\n",
      "\u001b[34m\u001b[1mtrain: \u001b[0mD:\\coding\\Applied-DL\\Chess-Analytics-Model\\data\\train\\images\\IMG_0296_JPG.rf.fe6246bc705bb866f527a6ae2efb1b99.jpg: ignoring corrupt image/label: Label class 12 exceeds dataset class count 12. Possible class labels are 0-11\n",
      "\u001b[34m\u001b[1mtrain: \u001b[0mD:\\coding\\Applied-DL\\Chess-Analytics-Model\\data\\train\\images\\IMG_0297_JPG.rf.47e3984909ef5581659ae1a350978094.jpg: ignoring corrupt image/label: Label class 12 exceeds dataset class count 12. Possible class labels are 0-11\n",
      "\u001b[34m\u001b[1mtrain: \u001b[0mD:\\coding\\Applied-DL\\Chess-Analytics-Model\\data\\train\\images\\IMG_0297_JPG.rf.5e635cca1323148499732eaf858ba2b2.jpg: ignoring corrupt image/label: Label class 12 exceeds dataset class count 12. Possible class labels are 0-11\n",
      "\u001b[34m\u001b[1mtrain: \u001b[0mD:\\coding\\Applied-DL\\Chess-Analytics-Model\\data\\train\\images\\IMG_0297_JPG.rf.a66ff62117c20eb55204281f042b32c7.jpg: ignoring corrupt image/label: Label class 12 exceeds dataset class count 12. Possible class labels are 0-11\n",
      "\u001b[34m\u001b[1mtrain: \u001b[0mD:\\coding\\Applied-DL\\Chess-Analytics-Model\\data\\train\\images\\IMG_0298_JPG.rf.5b5e7dd4118e128457567019a928e264.jpg: ignoring corrupt image/label: Label class 12 exceeds dataset class count 12. Possible class labels are 0-11\n",
      "\u001b[34m\u001b[1mtrain: \u001b[0mD:\\coding\\Applied-DL\\Chess-Analytics-Model\\data\\train\\images\\IMG_0298_JPG.rf.6d6ac51367b303c05c261e7e8b11de67.jpg: ignoring corrupt image/label: Label class 12 exceeds dataset class count 12. Possible class labels are 0-11\n",
      "\u001b[34m\u001b[1mtrain: \u001b[0mD:\\coding\\Applied-DL\\Chess-Analytics-Model\\data\\train\\images\\IMG_0298_JPG.rf.c72da1b09a38ec0adab3af9bb3abc0c1.jpg: ignoring corrupt image/label: Label class 12 exceeds dataset class count 12. Possible class labels are 0-11\n",
      "\u001b[34m\u001b[1mtrain: \u001b[0mD:\\coding\\Applied-DL\\Chess-Analytics-Model\\data\\train\\images\\IMG_0299_JPG.rf.4d6c7558e7fd08da45a6fabde3296e5b.jpg: ignoring corrupt image/label: Label class 12 exceeds dataset class count 12. Possible class labels are 0-11\n",
      "\u001b[34m\u001b[1mtrain: \u001b[0mD:\\coding\\Applied-DL\\Chess-Analytics-Model\\data\\train\\images\\IMG_0299_JPG.rf.9f796e9ea3695af07f61b110f53ee45f.jpg: ignoring corrupt image/label: Label class 12 exceeds dataset class count 12. Possible class labels are 0-11\n",
      "\u001b[34m\u001b[1mtrain: \u001b[0mD:\\coding\\Applied-DL\\Chess-Analytics-Model\\data\\train\\images\\IMG_0299_JPG.rf.ae4ab20b4db16431416f89b8d9582906.jpg: ignoring corrupt image/label: Label class 12 exceeds dataset class count 12. Possible class labels are 0-11\n",
      "\u001b[34m\u001b[1mtrain: \u001b[0mD:\\coding\\Applied-DL\\Chess-Analytics-Model\\data\\train\\images\\a4028b2361ce7ead654a86b07ac39d52_jpg.rf.55bd810c2826cd5fbda470f36df47735.jpg: ignoring corrupt image/label: Label class 12 exceeds dataset class count 12. Possible class labels are 0-11\n",
      "\u001b[34m\u001b[1mtrain: \u001b[0mD:\\coding\\Applied-DL\\Chess-Analytics-Model\\data\\train\\images\\a4028b2361ce7ead654a86b07ac39d52_jpg.rf.687ddaa40b48884e559d3606486fa7e8.jpg: ignoring corrupt image/label: Label class 12 exceeds dataset class count 12. Possible class labels are 0-11\n",
      "\u001b[34m\u001b[1mtrain: \u001b[0mD:\\coding\\Applied-DL\\Chess-Analytics-Model\\data\\train\\images\\a4028b2361ce7ead654a86b07ac39d52_jpg.rf.f18fa4c1dce2f0387c451354d1e535c0.jpg: ignoring corrupt image/label: Label class 12 exceeds dataset class count 12. Possible class labels are 0-11\n",
      "\u001b[34m\u001b[1mtrain: \u001b[0mD:\\coding\\Applied-DL\\Chess-Analytics-Model\\data\\train\\images\\a4ebf4c268d80c4fe329331ea981b3a1_jpg.rf.12e469ca411a793fab88746c49f8f790.jpg: ignoring corrupt image/label: Label class 12 exceeds dataset class count 12. Possible class labels are 0-11\n",
      "\u001b[34m\u001b[1mtrain: \u001b[0mD:\\coding\\Applied-DL\\Chess-Analytics-Model\\data\\train\\images\\a4ebf4c268d80c4fe329331ea981b3a1_jpg.rf.31a38518592003e6e81426d0090bd58a.jpg: ignoring corrupt image/label: Label class 12 exceeds dataset class count 12. Possible class labels are 0-11\n",
      "\u001b[34m\u001b[1mtrain: \u001b[0mD:\\coding\\Applied-DL\\Chess-Analytics-Model\\data\\train\\images\\a4ebf4c268d80c4fe329331ea981b3a1_jpg.rf.f2ae1ea570213bb9acdec41a1a6bcd09.jpg: ignoring corrupt image/label: Label class 12 exceeds dataset class count 12. Possible class labels are 0-11\n",
      "\u001b[34m\u001b[1mtrain: \u001b[0mD:\\coding\\Applied-DL\\Chess-Analytics-Model\\data\\train\\images\\a5c65b40e0be3480c0ecfacaab399a87_jpg.rf.6147a8d031e8344d640e447c4ba2dbb9.jpg: ignoring corrupt image/label: Label class 12 exceeds dataset class count 12. Possible class labels are 0-11\n",
      "\u001b[34m\u001b[1mtrain: \u001b[0mD:\\coding\\Applied-DL\\Chess-Analytics-Model\\data\\train\\images\\a5c65b40e0be3480c0ecfacaab399a87_jpg.rf.647ac6c3b9611f89b1a7a757f7051b9f.jpg: ignoring corrupt image/label: Label class 12 exceeds dataset class count 12. Possible class labels are 0-11\n",
      "\u001b[34m\u001b[1mtrain: \u001b[0mD:\\coding\\Applied-DL\\Chess-Analytics-Model\\data\\train\\images\\a5c65b40e0be3480c0ecfacaab399a87_jpg.rf.d1364905ffdbf3466eff747cf5948b36.jpg: ignoring corrupt image/label: Label class 12 exceeds dataset class count 12. Possible class labels are 0-11\n",
      "\u001b[34m\u001b[1mtrain: \u001b[0mD:\\coding\\Applied-DL\\Chess-Analytics-Model\\data\\train\\images\\a8847f8fe8eaaa1c97bf83027a901760_jpg.rf.69b91785d4aea8f4199f9c847b918428.jpg: ignoring corrupt image/label: Label class 12 exceeds dataset class count 12. Possible class labels are 0-11\n",
      "\u001b[34m\u001b[1mtrain: \u001b[0mD:\\coding\\Applied-DL\\Chess-Analytics-Model\\data\\train\\images\\a8847f8fe8eaaa1c97bf83027a901760_jpg.rf.6df2ccc6498e99df8337ffb8ab9c488a.jpg: ignoring corrupt image/label: Label class 12 exceeds dataset class count 12. Possible class labels are 0-11\n",
      "\u001b[34m\u001b[1mtrain: \u001b[0mD:\\coding\\Applied-DL\\Chess-Analytics-Model\\data\\train\\images\\a8847f8fe8eaaa1c97bf83027a901760_jpg.rf.cb0f3b1463e92615083e75629be7c4ee.jpg: ignoring corrupt image/label: Label class 12 exceeds dataset class count 12. Possible class labels are 0-11\n",
      "\u001b[34m\u001b[1mtrain: \u001b[0mD:\\coding\\Applied-DL\\Chess-Analytics-Model\\data\\train\\images\\a9768de3fceeeae2618f362870fb9a88_jpg.rf.07e7239539431dfa4ad1282152ccad21.jpg: ignoring corrupt image/label: Label class 12 exceeds dataset class count 12. Possible class labels are 0-11\n",
      "\u001b[34m\u001b[1mtrain: \u001b[0mD:\\coding\\Applied-DL\\Chess-Analytics-Model\\data\\train\\images\\a9768de3fceeeae2618f362870fb9a88_jpg.rf.444b950f0b329aa6e7ed17a86383606d.jpg: ignoring corrupt image/label: Label class 12 exceeds dataset class count 12. Possible class labels are 0-11\n",
      "\u001b[34m\u001b[1mtrain: \u001b[0mD:\\coding\\Applied-DL\\Chess-Analytics-Model\\data\\train\\images\\a9768de3fceeeae2618f362870fb9a88_jpg.rf.ef561195bb5bb73478b957d2958db087.jpg: ignoring corrupt image/label: Label class 12 exceeds dataset class count 12. Possible class labels are 0-11\n",
      "\u001b[34m\u001b[1mtrain: \u001b[0mD:\\coding\\Applied-DL\\Chess-Analytics-Model\\data\\train\\images\\a9987cf6cc5c6545818ec294d4a5bb9b_jpg.rf.562eed600b4725f0697896672ae6ddb2.jpg: ignoring corrupt image/label: Label class 12 exceeds dataset class count 12. Possible class labels are 0-11\n",
      "\u001b[34m\u001b[1mtrain: \u001b[0mD:\\coding\\Applied-DL\\Chess-Analytics-Model\\data\\train\\images\\a9987cf6cc5c6545818ec294d4a5bb9b_jpg.rf.7d8b64ebafca42e4a7e4594d41700858.jpg: ignoring corrupt image/label: Label class 12 exceeds dataset class count 12. Possible class labels are 0-11\n",
      "\u001b[34m\u001b[1mtrain: \u001b[0mD:\\coding\\Applied-DL\\Chess-Analytics-Model\\data\\train\\images\\a9987cf6cc5c6545818ec294d4a5bb9b_jpg.rf.ecb9987509a91f5df7b6dd308fb5edb8.jpg: ignoring corrupt image/label: Label class 12 exceeds dataset class count 12. Possible class labels are 0-11\n",
      "\u001b[34m\u001b[1mtrain: \u001b[0mD:\\coding\\Applied-DL\\Chess-Analytics-Model\\data\\train\\images\\b0f3d66c8be13f5f6aa25b67a06bdcfa_jpg.rf.2400a74d8ca898058bbfa7a4b2fad3ed.jpg: ignoring corrupt image/label: Label class 12 exceeds dataset class count 12. Possible class labels are 0-11\n",
      "\u001b[34m\u001b[1mtrain: \u001b[0mD:\\coding\\Applied-DL\\Chess-Analytics-Model\\data\\train\\images\\b0f3d66c8be13f5f6aa25b67a06bdcfa_jpg.rf.be26c1b3f90ad3ce201f81d39ce2c7a3.jpg: ignoring corrupt image/label: Label class 12 exceeds dataset class count 12. Possible class labels are 0-11\n",
      "\u001b[34m\u001b[1mtrain: \u001b[0mD:\\coding\\Applied-DL\\Chess-Analytics-Model\\data\\train\\images\\b0f3d66c8be13f5f6aa25b67a06bdcfa_jpg.rf.e2479f30377a357d8c2d24488c666a98.jpg: ignoring corrupt image/label: Label class 12 exceeds dataset class count 12. Possible class labels are 0-11\n",
      "\u001b[34m\u001b[1mtrain: \u001b[0mD:\\coding\\Applied-DL\\Chess-Analytics-Model\\data\\train\\images\\b5bcde459ca36f0d1f3c20e751336672_jpg.rf.22bea80464ccb6e4d31ab5c10d11c0f9.jpg: ignoring corrupt image/label: Label class 12 exceeds dataset class count 12. Possible class labels are 0-11\n",
      "\u001b[34m\u001b[1mtrain: \u001b[0mD:\\coding\\Applied-DL\\Chess-Analytics-Model\\data\\train\\images\\b5bcde459ca36f0d1f3c20e751336672_jpg.rf.aaa30a1910b6b485f2feb1daeaac3bde.jpg: ignoring corrupt image/label: Label class 12 exceeds dataset class count 12. Possible class labels are 0-11\n",
      "\u001b[34m\u001b[1mtrain: \u001b[0mD:\\coding\\Applied-DL\\Chess-Analytics-Model\\data\\train\\images\\b5bcde459ca36f0d1f3c20e751336672_jpg.rf.bcad4ddc397a9e93e8f5049dc7d2ac20.jpg: ignoring corrupt image/label: Label class 12 exceeds dataset class count 12. Possible class labels are 0-11\n",
      "\u001b[34m\u001b[1mtrain: \u001b[0mD:\\coding\\Applied-DL\\Chess-Analytics-Model\\data\\train\\images\\b79ae5b70de58089ead6e32b235e30d3_jpg.rf.70249336c8f66aeb7cd2c808d7e0a255.jpg: ignoring corrupt image/label: Label class 12 exceeds dataset class count 12. Possible class labels are 0-11\n",
      "\u001b[34m\u001b[1mtrain: \u001b[0mD:\\coding\\Applied-DL\\Chess-Analytics-Model\\data\\train\\images\\b79ae5b70de58089ead6e32b235e30d3_jpg.rf.df8a88cab326fc33376d82c562d0b45f.jpg: ignoring corrupt image/label: Label class 12 exceeds dataset class count 12. Possible class labels are 0-11\n",
      "\u001b[34m\u001b[1mtrain: \u001b[0mD:\\coding\\Applied-DL\\Chess-Analytics-Model\\data\\train\\images\\b79ae5b70de58089ead6e32b235e30d3_jpg.rf.e843446cbb3275d85d46432364a2d867.jpg: ignoring corrupt image/label: Label class 12 exceeds dataset class count 12. Possible class labels are 0-11\n",
      "\u001b[34m\u001b[1mtrain: \u001b[0mD:\\coding\\Applied-DL\\Chess-Analytics-Model\\data\\train\\images\\b7a8c7de4fe1382d69f58ac97e819b5c_jpg.rf.3c92a450faed773b5607e082e798c7fa.jpg: ignoring corrupt image/label: Label class 12 exceeds dataset class count 12. Possible class labels are 0-11\n",
      "\u001b[34m\u001b[1mtrain: \u001b[0mD:\\coding\\Applied-DL\\Chess-Analytics-Model\\data\\train\\images\\b7a8c7de4fe1382d69f58ac97e819b5c_jpg.rf.a896caf123ecc925575d9922df742758.jpg: ignoring corrupt image/label: Label class 12 exceeds dataset class count 12. Possible class labels are 0-11\n",
      "\u001b[34m\u001b[1mtrain: \u001b[0mD:\\coding\\Applied-DL\\Chess-Analytics-Model\\data\\train\\images\\b7a8c7de4fe1382d69f58ac97e819b5c_jpg.rf.d9033064a02df12bad0b60bda98b1ff6.jpg: ignoring corrupt image/label: Label class 12 exceeds dataset class count 12. Possible class labels are 0-11\n",
      "\u001b[34m\u001b[1mtrain: \u001b[0mD:\\coding\\Applied-DL\\Chess-Analytics-Model\\data\\train\\images\\bc5decab88861286dcf78a367b4377cb_jpg.rf.118253b02b72c34a332d2bd78746c795.jpg: ignoring corrupt image/label: Label class 12 exceeds dataset class count 12. Possible class labels are 0-11\n",
      "\u001b[34m\u001b[1mtrain: \u001b[0mD:\\coding\\Applied-DL\\Chess-Analytics-Model\\data\\train\\images\\bc5decab88861286dcf78a367b4377cb_jpg.rf.88da334f69a7c36333bc65576f4ffdfe.jpg: ignoring corrupt image/label: Label class 12 exceeds dataset class count 12. Possible class labels are 0-11\n",
      "\u001b[34m\u001b[1mtrain: \u001b[0mD:\\coding\\Applied-DL\\Chess-Analytics-Model\\data\\train\\images\\bc5decab88861286dcf78a367b4377cb_jpg.rf.a4fe058da39ab9ff0b210ff464124bb2.jpg: ignoring corrupt image/label: Label class 12 exceeds dataset class count 12. Possible class labels are 0-11\n",
      "\u001b[34m\u001b[1mtrain: \u001b[0mD:\\coding\\Applied-DL\\Chess-Analytics-Model\\data\\train\\images\\beb11566e59775b61f0ca369952067cc_jpg.rf.56493b995a4c4ae16d241c7e1120a53e.jpg: ignoring corrupt image/label: Label class 12 exceeds dataset class count 12. Possible class labels are 0-11\n",
      "\u001b[34m\u001b[1mtrain: \u001b[0mD:\\coding\\Applied-DL\\Chess-Analytics-Model\\data\\train\\images\\beb11566e59775b61f0ca369952067cc_jpg.rf.5d2e0331a1ac2070a72fc4c12a036f53.jpg: ignoring corrupt image/label: Label class 12 exceeds dataset class count 12. Possible class labels are 0-11\n",
      "\u001b[34m\u001b[1mtrain: \u001b[0mD:\\coding\\Applied-DL\\Chess-Analytics-Model\\data\\train\\images\\beb11566e59775b61f0ca369952067cc_jpg.rf.f912967037a2c28db9c37a7564017dd4.jpg: ignoring corrupt image/label: Label class 12 exceeds dataset class count 12. Possible class labels are 0-11\n",
      "\u001b[34m\u001b[1mtrain: \u001b[0mD:\\coding\\Applied-DL\\Chess-Analytics-Model\\data\\train\\images\\c3e9e81ba1540aae7961a4d8d96600ba_jpg.rf.159b3ae18cb81620929e5e4847ab9ed8.jpg: ignoring corrupt image/label: Label class 12 exceeds dataset class count 12. Possible class labels are 0-11\n",
      "\u001b[34m\u001b[1mtrain: \u001b[0mD:\\coding\\Applied-DL\\Chess-Analytics-Model\\data\\train\\images\\c3e9e81ba1540aae7961a4d8d96600ba_jpg.rf.32f7438c342e397838be8189c204446f.jpg: ignoring corrupt image/label: Label class 12 exceeds dataset class count 12. Possible class labels are 0-11\n",
      "\u001b[34m\u001b[1mtrain: \u001b[0mD:\\coding\\Applied-DL\\Chess-Analytics-Model\\data\\train\\images\\c3e9e81ba1540aae7961a4d8d96600ba_jpg.rf.d0ef355e121a971f315ab22160109b11.jpg: ignoring corrupt image/label: Label class 12 exceeds dataset class count 12. Possible class labels are 0-11\n",
      "\u001b[34m\u001b[1mtrain: \u001b[0mD:\\coding\\Applied-DL\\Chess-Analytics-Model\\data\\train\\images\\ca869123d8a0cbcc6e54f4a445e5a78a_jpg.rf.1b0eec370b291dd2002d949abe4d9786.jpg: ignoring corrupt image/label: Label class 12 exceeds dataset class count 12. Possible class labels are 0-11\n",
      "\u001b[34m\u001b[1mtrain: \u001b[0mD:\\coding\\Applied-DL\\Chess-Analytics-Model\\data\\train\\images\\ca869123d8a0cbcc6e54f4a445e5a78a_jpg.rf.5a9d4bcaf2ccf730c794bb7d57d77524.jpg: ignoring corrupt image/label: Label class 12 exceeds dataset class count 12. Possible class labels are 0-11\n",
      "\u001b[34m\u001b[1mtrain: \u001b[0mD:\\coding\\Applied-DL\\Chess-Analytics-Model\\data\\train\\images\\ca869123d8a0cbcc6e54f4a445e5a78a_jpg.rf.cb3d9d5a5fd961cfb91b7cb00efeab83.jpg: ignoring corrupt image/label: Label class 12 exceeds dataset class count 12. Possible class labels are 0-11\n",
      "\u001b[34m\u001b[1mtrain: \u001b[0mD:\\coding\\Applied-DL\\Chess-Analytics-Model\\data\\train\\images\\ce54969567273b9b8a275812ff56e16c_jpg.rf.29c743680e34c742cc77893515011b9e.jpg: ignoring corrupt image/label: Label class 12 exceeds dataset class count 12. Possible class labels are 0-11\n",
      "\u001b[34m\u001b[1mtrain: \u001b[0mD:\\coding\\Applied-DL\\Chess-Analytics-Model\\data\\train\\images\\ce54969567273b9b8a275812ff56e16c_jpg.rf.9dcc1b3107606542dc0633cbc7ff5026.jpg: ignoring corrupt image/label: Label class 12 exceeds dataset class count 12. Possible class labels are 0-11\n",
      "\u001b[34m\u001b[1mtrain: \u001b[0mD:\\coding\\Applied-DL\\Chess-Analytics-Model\\data\\train\\images\\ce54969567273b9b8a275812ff56e16c_jpg.rf.c314f1d0e3f3e5009805961ff05a7934.jpg: ignoring corrupt image/label: Label class 12 exceeds dataset class count 12. Possible class labels are 0-11\n",
      "\u001b[34m\u001b[1mtrain: \u001b[0mD:\\coding\\Applied-DL\\Chess-Analytics-Model\\data\\train\\images\\cf2784fa97151d5316b2961b1e62dc45_jpg.rf.5d084fce203d3441c10c50c670717b07.jpg: ignoring corrupt image/label: Label class 12 exceeds dataset class count 12. Possible class labels are 0-11\n",
      "\u001b[34m\u001b[1mtrain: \u001b[0mD:\\coding\\Applied-DL\\Chess-Analytics-Model\\data\\train\\images\\cf2784fa97151d5316b2961b1e62dc45_jpg.rf.5e86f14e3c821254e4afac25e3ade2b1.jpg: ignoring corrupt image/label: Label class 12 exceeds dataset class count 12. Possible class labels are 0-11\n",
      "\u001b[34m\u001b[1mtrain: \u001b[0mD:\\coding\\Applied-DL\\Chess-Analytics-Model\\data\\train\\images\\cf2784fa97151d5316b2961b1e62dc45_jpg.rf.fe672984de7dabfff5b9cde323862f11.jpg: ignoring corrupt image/label: Label class 12 exceeds dataset class count 12. Possible class labels are 0-11\n",
      "\u001b[34m\u001b[1mtrain: \u001b[0mD:\\coding\\Applied-DL\\Chess-Analytics-Model\\data\\train\\images\\d29148a2233950a7777285281cbfccff_jpg.rf.20e8ed774b4d58497375cf75613ce12f.jpg: ignoring corrupt image/label: Label class 12 exceeds dataset class count 12. Possible class labels are 0-11\n",
      "\u001b[34m\u001b[1mtrain: \u001b[0mD:\\coding\\Applied-DL\\Chess-Analytics-Model\\data\\train\\images\\d29148a2233950a7777285281cbfccff_jpg.rf.40093760ef1ab3612d0c64743229660a.jpg: ignoring corrupt image/label: Label class 12 exceeds dataset class count 12. Possible class labels are 0-11\n",
      "\u001b[34m\u001b[1mtrain: \u001b[0mD:\\coding\\Applied-DL\\Chess-Analytics-Model\\data\\train\\images\\d29148a2233950a7777285281cbfccff_jpg.rf.ac8323d05a30dae895f9f6b84d20ea68.jpg: ignoring corrupt image/label: Label class 12 exceeds dataset class count 12. Possible class labels are 0-11\n",
      "\u001b[34m\u001b[1mtrain: \u001b[0mD:\\coding\\Applied-DL\\Chess-Analytics-Model\\data\\train\\images\\d415969922564f317be0d1433330626f_jpg.rf.28d3ae6c7470773e33b2e1d8ab45d13b.jpg: ignoring corrupt image/label: Label class 12 exceeds dataset class count 12. Possible class labels are 0-11\n",
      "\u001b[34m\u001b[1mtrain: \u001b[0mD:\\coding\\Applied-DL\\Chess-Analytics-Model\\data\\train\\images\\d415969922564f317be0d1433330626f_jpg.rf.5bc5eaf797dffc2a83bca91da5ebcd80.jpg: ignoring corrupt image/label: Label class 12 exceeds dataset class count 12. Possible class labels are 0-11\n",
      "\u001b[34m\u001b[1mtrain: \u001b[0mD:\\coding\\Applied-DL\\Chess-Analytics-Model\\data\\train\\images\\d415969922564f317be0d1433330626f_jpg.rf.ea52055e8d217e2f8c5f785c5b114aea.jpg: ignoring corrupt image/label: Label class 12 exceeds dataset class count 12. Possible class labels are 0-11\n",
      "\u001b[34m\u001b[1mtrain: \u001b[0mD:\\coding\\Applied-DL\\Chess-Analytics-Model\\data\\train\\images\\d795f84f39716798482fb2937868ed8a_jpg.rf.3eb9d5c21be9982bc0438b394988ec12.jpg: ignoring corrupt image/label: Label class 12 exceeds dataset class count 12. Possible class labels are 0-11\n",
      "\u001b[34m\u001b[1mtrain: \u001b[0mD:\\coding\\Applied-DL\\Chess-Analytics-Model\\data\\train\\images\\d795f84f39716798482fb2937868ed8a_jpg.rf.62de48b291ec4dab492ffd28d07e46e2.jpg: ignoring corrupt image/label: Label class 12 exceeds dataset class count 12. Possible class labels are 0-11\n",
      "\u001b[34m\u001b[1mtrain: \u001b[0mD:\\coding\\Applied-DL\\Chess-Analytics-Model\\data\\train\\images\\d795f84f39716798482fb2937868ed8a_jpg.rf.cad9a430bd9734f8a4d5a7bbefe008db.jpg: ignoring corrupt image/label: Label class 12 exceeds dataset class count 12. Possible class labels are 0-11\n",
      "\u001b[34m\u001b[1mtrain: \u001b[0mD:\\coding\\Applied-DL\\Chess-Analytics-Model\\data\\train\\images\\dd6b5c3cb2d7e77f38f1dfeb2bff0431_jpg.rf.9a8ea23dbdf192fee0434dbb0eb0f22c.jpg: ignoring corrupt image/label: Label class 12 exceeds dataset class count 12. Possible class labels are 0-11\n",
      "\u001b[34m\u001b[1mtrain: \u001b[0mD:\\coding\\Applied-DL\\Chess-Analytics-Model\\data\\train\\images\\dd6b5c3cb2d7e77f38f1dfeb2bff0431_jpg.rf.cc1ce4e567e8abf653acf2434e59ebdf.jpg: ignoring corrupt image/label: Label class 12 exceeds dataset class count 12. Possible class labels are 0-11\n",
      "\u001b[34m\u001b[1mtrain: \u001b[0mD:\\coding\\Applied-DL\\Chess-Analytics-Model\\data\\train\\images\\dd6b5c3cb2d7e77f38f1dfeb2bff0431_jpg.rf.d5e6c00de132b8eb8ba382332327fb37.jpg: ignoring corrupt image/label: Label class 12 exceeds dataset class count 12. Possible class labels are 0-11\n",
      "\u001b[34m\u001b[1mtrain: \u001b[0mD:\\coding\\Applied-DL\\Chess-Analytics-Model\\data\\train\\images\\e40003d4bbcdac7196b9502bfe2fb6ed_jpg.rf.b847f770b71b7f853198176ef25b8516.jpg: ignoring corrupt image/label: Label class 12 exceeds dataset class count 12. Possible class labels are 0-11\n",
      "\u001b[34m\u001b[1mtrain: \u001b[0mD:\\coding\\Applied-DL\\Chess-Analytics-Model\\data\\train\\images\\e40003d4bbcdac7196b9502bfe2fb6ed_jpg.rf.d6bf64a0bd417c7ffc6c45fc60fb02a5.jpg: ignoring corrupt image/label: Label class 12 exceeds dataset class count 12. Possible class labels are 0-11\n",
      "\u001b[34m\u001b[1mtrain: \u001b[0mD:\\coding\\Applied-DL\\Chess-Analytics-Model\\data\\train\\images\\e40003d4bbcdac7196b9502bfe2fb6ed_jpg.rf.fff02b8d5496821ff5b6def111287362.jpg: ignoring corrupt image/label: Label class 12 exceeds dataset class count 12. Possible class labels are 0-11\n",
      "\u001b[34m\u001b[1mtrain: \u001b[0mD:\\coding\\Applied-DL\\Chess-Analytics-Model\\data\\train\\images\\eb9e7928e756c3cf9164e7afc08c4653_jpg.rf.268e96829cc026a5763f0182c1e8b842.jpg: ignoring corrupt image/label: Label class 12 exceeds dataset class count 12. Possible class labels are 0-11\n",
      "\u001b[34m\u001b[1mtrain: \u001b[0mD:\\coding\\Applied-DL\\Chess-Analytics-Model\\data\\train\\images\\eb9e7928e756c3cf9164e7afc08c4653_jpg.rf.746289ad0d0f3f589717876a2b835faa.jpg: ignoring corrupt image/label: Label class 12 exceeds dataset class count 12. Possible class labels are 0-11\n",
      "\u001b[34m\u001b[1mtrain: \u001b[0mD:\\coding\\Applied-DL\\Chess-Analytics-Model\\data\\train\\images\\eb9e7928e756c3cf9164e7afc08c4653_jpg.rf.7f6a60da5223783cc3525b307708142a.jpg: ignoring corrupt image/label: Label class 12 exceeds dataset class count 12. Possible class labels are 0-11\n",
      "\u001b[34m\u001b[1mtrain: \u001b[0mD:\\coding\\Applied-DL\\Chess-Analytics-Model\\data\\train\\images\\ec4c30d88ecc70b6a3e76dbd9b17324a_jpg.rf.334f863b8bb588cb413d6f23e5c572e3.jpg: ignoring corrupt image/label: Label class 12 exceeds dataset class count 12. Possible class labels are 0-11\n",
      "\u001b[34m\u001b[1mtrain: \u001b[0mD:\\coding\\Applied-DL\\Chess-Analytics-Model\\data\\train\\images\\ec4c30d88ecc70b6a3e76dbd9b17324a_jpg.rf.a3a828973a59e98475fa9d4c9b3bc6b0.jpg: ignoring corrupt image/label: Label class 12 exceeds dataset class count 12. Possible class labels are 0-11\n",
      "\u001b[34m\u001b[1mtrain: \u001b[0mD:\\coding\\Applied-DL\\Chess-Analytics-Model\\data\\train\\images\\ec4c30d88ecc70b6a3e76dbd9b17324a_jpg.rf.aaf770cf8e03c34de0727104563ac2ee.jpg: ignoring corrupt image/label: Label class 12 exceeds dataset class count 12. Possible class labels are 0-11\n",
      "\u001b[34m\u001b[1mtrain: \u001b[0mD:\\coding\\Applied-DL\\Chess-Analytics-Model\\data\\train\\images\\ec5ab1930d6aa16fff2582b48f82cada_jpg.rf.9ed7a8384c58e621e1bd8d199c9911eb.jpg: ignoring corrupt image/label: Label class 12 exceeds dataset class count 12. Possible class labels are 0-11\n",
      "\u001b[34m\u001b[1mtrain: \u001b[0mD:\\coding\\Applied-DL\\Chess-Analytics-Model\\data\\train\\images\\ec5ab1930d6aa16fff2582b48f82cada_jpg.rf.a4317db23e4c499293ae36f9fd900360.jpg: ignoring corrupt image/label: Label class 12 exceeds dataset class count 12. Possible class labels are 0-11\n",
      "\u001b[34m\u001b[1mtrain: \u001b[0mD:\\coding\\Applied-DL\\Chess-Analytics-Model\\data\\train\\images\\ec5ab1930d6aa16fff2582b48f82cada_jpg.rf.aae26a4e7732a2ecb663aca13ca5e2be.jpg: ignoring corrupt image/label: Label class 12 exceeds dataset class count 12. Possible class labels are 0-11\n",
      "\u001b[34m\u001b[1mtrain: \u001b[0mD:\\coding\\Applied-DL\\Chess-Analytics-Model\\data\\train\\images\\ef1d425fd5370fbf8b7adea43b755304_jpg.rf.098e333d5b6303fdc9c280fbaf5a79c4.jpg: ignoring corrupt image/label: Label class 12 exceeds dataset class count 12. Possible class labels are 0-11\n",
      "\u001b[34m\u001b[1mtrain: \u001b[0mD:\\coding\\Applied-DL\\Chess-Analytics-Model\\data\\train\\images\\ef1d425fd5370fbf8b7adea43b755304_jpg.rf.c511c91a1669993209db75e7013631ba.jpg: ignoring corrupt image/label: Label class 12 exceeds dataset class count 12. Possible class labels are 0-11\n",
      "\u001b[34m\u001b[1mtrain: \u001b[0mD:\\coding\\Applied-DL\\Chess-Analytics-Model\\data\\train\\images\\ef1d425fd5370fbf8b7adea43b755304_jpg.rf.f7787e4a869bce3acd75d98f934e857e.jpg: ignoring corrupt image/label: Label class 12 exceeds dataset class count 12. Possible class labels are 0-11\n",
      "\u001b[34m\u001b[1mtrain: \u001b[0mD:\\coding\\Applied-DL\\Chess-Analytics-Model\\data\\train\\images\\f2672cdc28767484b556da3ab6f1003e_jpg.rf.1e58ffa93dd27f57436a6b49d82d98e7.jpg: ignoring corrupt image/label: Label class 12 exceeds dataset class count 12. Possible class labels are 0-11\n",
      "\u001b[34m\u001b[1mtrain: \u001b[0mD:\\coding\\Applied-DL\\Chess-Analytics-Model\\data\\train\\images\\f2672cdc28767484b556da3ab6f1003e_jpg.rf.3509d0a9193d954d2cef5fc1371760c4.jpg: ignoring corrupt image/label: Label class 12 exceeds dataset class count 12. Possible class labels are 0-11\n",
      "\u001b[34m\u001b[1mtrain: \u001b[0mD:\\coding\\Applied-DL\\Chess-Analytics-Model\\data\\train\\images\\f2672cdc28767484b556da3ab6f1003e_jpg.rf.eb54d003a3fad58875432fdfef1764bc.jpg: ignoring corrupt image/label: Label class 12 exceeds dataset class count 12. Possible class labels are 0-11\n",
      "\u001b[34m\u001b[1mtrain: \u001b[0mD:\\coding\\Applied-DL\\Chess-Analytics-Model\\data\\train\\images\\f52e1873b8583f8bf4f7ddf6e9649f07_jpg.rf.2537eb51bebf5c74c4bd317859fdeae6.jpg: ignoring corrupt image/label: Label class 12 exceeds dataset class count 12. Possible class labels are 0-11\n",
      "\u001b[34m\u001b[1mtrain: \u001b[0mD:\\coding\\Applied-DL\\Chess-Analytics-Model\\data\\train\\images\\f52e1873b8583f8bf4f7ddf6e9649f07_jpg.rf.501bcfa0d1fb2050080a5caa9ce7ee07.jpg: ignoring corrupt image/label: Label class 12 exceeds dataset class count 12. Possible class labels are 0-11\n",
      "\u001b[34m\u001b[1mtrain: \u001b[0mD:\\coding\\Applied-DL\\Chess-Analytics-Model\\data\\train\\images\\f52e1873b8583f8bf4f7ddf6e9649f07_jpg.rf.f49dc0690959dadeb1524da1a3cb38f7.jpg: ignoring corrupt image/label: Label class 12 exceeds dataset class count 12. Possible class labels are 0-11\n",
      "\u001b[34m\u001b[1mtrain: \u001b[0mD:\\coding\\Applied-DL\\Chess-Analytics-Model\\data\\train\\images\\f9a9a175f26d4b26bca3a5338cc1405e_jpg.rf.1bfc00ef85611686b0566f4ea49a4c9f.jpg: ignoring corrupt image/label: Label class 12 exceeds dataset class count 12. Possible class labels are 0-11\n",
      "\u001b[34m\u001b[1mtrain: \u001b[0mD:\\coding\\Applied-DL\\Chess-Analytics-Model\\data\\train\\images\\f9a9a175f26d4b26bca3a5338cc1405e_jpg.rf.3260d2b6441db8b3e01beb6e26540341.jpg: ignoring corrupt image/label: Label class 12 exceeds dataset class count 12. Possible class labels are 0-11\n",
      "\u001b[34m\u001b[1mtrain: \u001b[0mD:\\coding\\Applied-DL\\Chess-Analytics-Model\\data\\train\\images\\f9a9a175f26d4b26bca3a5338cc1405e_jpg.rf.d028744643f733777684eace4ef99cd6.jpg: ignoring corrupt image/label: Label class 12 exceeds dataset class count 12. Possible class labels are 0-11\n",
      "\u001b[34m\u001b[1mtrain: \u001b[0mNew cache created: D:\\coding\\Applied-DL\\Chess-Analytics-Model\\data\\train\\labels.cache\n",
      "\u001b[34m\u001b[1mval: \u001b[0mFast image access  (ping: 0.10.0 ms, read: 62.112.4 MB/s, size: 23.6 KB)\n"
     ]
    },
    {
     "name": "stderr",
     "output_type": "stream",
     "text": [
      "\n",
      "d:\\coding\\Applied-DL\\venv\\Lib\\site-packages\\torch\\utils\\data\\dataloader.py:665: UserWarning: 'pin_memory' argument is set as true but no accelerator is found, then device pinned memory won't be used.\n",
      "  warnings.warn(warn_msg)\n",
      "\u001b[34m\u001b[1mval: \u001b[0mScanning D:\\coding\\Applied-DL\\Chess-Analytics-Model\\data\\valid\\labels... 58 images, 0 backgrounds, 18 corrupt: 100%|██████████| 58/58 [00:00<00:00, 672.70it/s]"
     ]
    },
    {
     "name": "stdout",
     "output_type": "stream",
     "text": [
      "\u001b[34m\u001b[1mval: \u001b[0mD:\\coding\\Applied-DL\\Chess-Analytics-Model\\data\\valid\\images\\05ad7223827a29a8283f6c4b2490f52f_jpg.rf.7c134acea5ef5e18aa75defc069dc1ee.jpg: ignoring corrupt image/label: Label class 12 exceeds dataset class count 12. Possible class labels are 0-11\n",
      "\u001b[34m\u001b[1mval: \u001b[0mD:\\coding\\Applied-DL\\Chess-Analytics-Model\\data\\valid\\images\\0b2252c93c53e1b2e61d485b22328e2e_jpg.rf.0a885b88adc72caa71b0aa0ec20b863e.jpg: ignoring corrupt image/label: Label class 12 exceeds dataset class count 12. Possible class labels are 0-11\n",
      "\u001b[34m\u001b[1mval: \u001b[0mD:\\coding\\Applied-DL\\Chess-Analytics-Model\\data\\valid\\images\\302e7c10664be32b4fc000452149027c_jpg.rf.9e3b8da2de02c1fe13ae9b9bf0d28d00.jpg: ignoring corrupt image/label: Label class 12 exceeds dataset class count 12. Possible class labels are 0-11\n",
      "\u001b[34m\u001b[1mval: \u001b[0mD:\\coding\\Applied-DL\\Chess-Analytics-Model\\data\\valid\\images\\3312e3bb60e338e9c1a614f0f8960dd8_jpg.rf.f85b2ac2635f38532147b8c2c8888562.jpg: ignoring corrupt image/label: Label class 12 exceeds dataset class count 12. Possible class labels are 0-11\n",
      "\u001b[34m\u001b[1mval: \u001b[0mD:\\coding\\Applied-DL\\Chess-Analytics-Model\\data\\valid\\images\\3aafc2d38807dddd1b43a54cb70f500d_jpg.rf.ed2b0d06c11e2ecfad6a696932579d82.jpg: ignoring corrupt image/label: Label class 12 exceeds dataset class count 12. Possible class labels are 0-11\n",
      "\u001b[34m\u001b[1mval: \u001b[0mD:\\coding\\Applied-DL\\Chess-Analytics-Model\\data\\valid\\images\\3baf85c957b9d28a16c0b65cb2ef0d29_jpg.rf.712429bc0be682ad0038cbc6beb3fd30.jpg: ignoring corrupt image/label: Label class 12 exceeds dataset class count 12. Possible class labels are 0-11\n",
      "\u001b[34m\u001b[1mval: \u001b[0mD:\\coding\\Applied-DL\\Chess-Analytics-Model\\data\\valid\\images\\495019998442ddf85b59e387d4916cd3_jpg.rf.3d9dd252951539310c6d9e3db7d3a058.jpg: ignoring corrupt image/label: Label class 12 exceeds dataset class count 12. Possible class labels are 0-11\n",
      "\u001b[34m\u001b[1mval: \u001b[0mD:\\coding\\Applied-DL\\Chess-Analytics-Model\\data\\valid\\images\\55be99616328f83dcbfe8c18e1387c0e_jpg.rf.bb349a21b80bcc7480f4d405a6a3e212.jpg: ignoring corrupt image/label: Label class 12 exceeds dataset class count 12. Possible class labels are 0-11\n",
      "\u001b[34m\u001b[1mval: \u001b[0mD:\\coding\\Applied-DL\\Chess-Analytics-Model\\data\\valid\\images\\6e2dd4604b3a51d9be11b8809ed03803_jpg.rf.f1371efe107cc6d72c36f2b5d4702d66.jpg: ignoring corrupt image/label: Label class 12 exceeds dataset class count 12. Possible class labels are 0-11\n",
      "\u001b[34m\u001b[1mval: \u001b[0mD:\\coding\\Applied-DL\\Chess-Analytics-Model\\data\\valid\\images\\7e97f49e613a59a70b833e4c0b2c1c04_jpg.rf.4521f7f4426d59e3817609ee10e78393.jpg: ignoring corrupt image/label: Label class 12 exceeds dataset class count 12. Possible class labels are 0-11\n",
      "\u001b[34m\u001b[1mval: \u001b[0mD:\\coding\\Applied-DL\\Chess-Analytics-Model\\data\\valid\\images\\9453c2097cb4ccc676e273939894b3da_jpg.rf.e4bb464448488954193bf6be4f4735bb.jpg: ignoring corrupt image/label: Label class 12 exceeds dataset class count 12. Possible class labels are 0-11\n",
      "\u001b[34m\u001b[1mval: \u001b[0mD:\\coding\\Applied-DL\\Chess-Analytics-Model\\data\\valid\\images\\IMG_0293_JPG.rf.e208f5cdf5e993c552be7f96e86c4890.jpg: ignoring corrupt image/label: Label class 12 exceeds dataset class count 12. Possible class labels are 0-11\n",
      "\u001b[34m\u001b[1mval: \u001b[0mD:\\coding\\Applied-DL\\Chess-Analytics-Model\\data\\valid\\images\\bb0de9761d16eee258ae09d8de32002c_jpg.rf.f97067be0b27db05f0ac03d9d8cb1185.jpg: ignoring corrupt image/label: Label class 12 exceeds dataset class count 12. Possible class labels are 0-11\n",
      "\u001b[34m\u001b[1mval: \u001b[0mD:\\coding\\Applied-DL\\Chess-Analytics-Model\\data\\valid\\images\\c1f800417bc42263d141b5ed785e7707_jpg.rf.f06111d09b042ba2d50e1ec17282bcf4.jpg: ignoring corrupt image/label: Label class 12 exceeds dataset class count 12. Possible class labels are 0-11\n",
      "\u001b[34m\u001b[1mval: \u001b[0mD:\\coding\\Applied-DL\\Chess-Analytics-Model\\data\\valid\\images\\c20ca9283ea51ac7707905894a7da703_jpg.rf.f54294c5288d49c907732317c5702df8.jpg: ignoring corrupt image/label: Label class 12 exceeds dataset class count 12. Possible class labels are 0-11\n",
      "\u001b[34m\u001b[1mval: \u001b[0mD:\\coding\\Applied-DL\\Chess-Analytics-Model\\data\\valid\\images\\d114edc5cb4cae0ceb2f152afd15f57d_jpg.rf.fa2760e7c7663ed523265248c14b35ea.jpg: ignoring corrupt image/label: Label class 12 exceeds dataset class count 12. Possible class labels are 0-11\n",
      "\u001b[34m\u001b[1mval: \u001b[0mD:\\coding\\Applied-DL\\Chess-Analytics-Model\\data\\valid\\images\\d6e283a49b0395a6d5867c9e98e32045_jpg.rf.78b022c1aa0a30727326b7962789a9aa.jpg: ignoring corrupt image/label: Label class 12 exceeds dataset class count 12. Possible class labels are 0-11\n",
      "\u001b[34m\u001b[1mval: \u001b[0mD:\\coding\\Applied-DL\\Chess-Analytics-Model\\data\\valid\\images\\e7edc4f1b8d3cc1069b96d0358e066c9_jpg.rf.6583bdfbb3f6a620fe8776c0d853b09d.jpg: ignoring corrupt image/label: Label class 12 exceeds dataset class count 12. Possible class labels are 0-11\n",
      "\u001b[34m\u001b[1mval: \u001b[0mNew cache created: D:\\coding\\Applied-DL\\Chess-Analytics-Model\\data\\valid\\labels.cache\n"
     ]
    },
    {
     "name": "stderr",
     "output_type": "stream",
     "text": [
      "\n",
      "d:\\coding\\Applied-DL\\venv\\Lib\\site-packages\\torch\\utils\\data\\dataloader.py:665: UserWarning: 'pin_memory' argument is set as true but no accelerator is found, then device pinned memory won't be used.\n",
      "  warnings.warn(warn_msg)\n"
     ]
    },
    {
     "name": "stdout",
     "output_type": "stream",
     "text": [
      "Plotting labels to d:\\coding\\Applied-DL\\runs\\detect\\chess_data_results3\\labels.jpg... \n",
      "\u001b[34m\u001b[1moptimizer:\u001b[0m 'optimizer=auto' found, ignoring 'lr0=0.01' and 'momentum=0.937' and determining best 'optimizer', 'lr0' and 'momentum' automatically... \n",
      "\u001b[34m\u001b[1moptimizer:\u001b[0m AdamW(lr=0.000625, momentum=0.9) with parameter groups 77 weight(decay=0.0), 84 weight(decay=0.0005), 83 bias(decay=0.0)\n",
      "Image sizes 416 train, 416 val\n",
      "Using 0 dataloader workers\n",
      "Logging results to \u001b[1md:\\coding\\Applied-DL\\runs\\detect\\chess_data_results3\u001b[0m\n",
      "Starting training for 50 epochs...\n",
      "\n",
      "      Epoch    GPU_mem   box_loss   cls_loss   dfl_loss  Instances       Size\n"
     ]
    },
    {
     "name": "stderr",
     "output_type": "stream",
     "text": [
      "       1/50         0G      1.475       3.21      1.139          3        416: 100%|██████████| 82/82 [02:54<00:00,  2.13s/it]\n",
      "                 Class     Images  Instances      Box(P          R      mAP50  mAP50-95): 100%|██████████| 5/5 [00:08<00:00,  1.62s/it]"
     ]
    },
    {
     "name": "stdout",
     "output_type": "stream",
     "text": [
      "                   all         40        122      0.837      0.419      0.596       0.42\n"
     ]
    },
    {
     "name": "stderr",
     "output_type": "stream",
     "text": [
      "\n"
     ]
    },
    {
     "name": "stdout",
     "output_type": "stream",
     "text": [
      "\n",
      "      Epoch    GPU_mem   box_loss   cls_loss   dfl_loss  Instances       Size\n"
     ]
    },
    {
     "name": "stderr",
     "output_type": "stream",
     "text": [
      "       2/50         0G      1.263      2.018      1.054          3        416: 100%|██████████| 82/82 [02:47<00:00,  2.04s/it]\n",
      "                 Class     Images  Instances      Box(P          R      mAP50  mAP50-95): 100%|██████████| 5/5 [00:08<00:00,  1.75s/it]"
     ]
    },
    {
     "name": "stdout",
     "output_type": "stream",
     "text": [
      "                   all         40        122        0.5      0.777      0.667      0.465\n"
     ]
    },
    {
     "name": "stderr",
     "output_type": "stream",
     "text": [
      "\n"
     ]
    },
    {
     "name": "stdout",
     "output_type": "stream",
     "text": [
      "\n",
      "      Epoch    GPU_mem   box_loss   cls_loss   dfl_loss  Instances       Size\n"
     ]
    },
    {
     "name": "stderr",
     "output_type": "stream",
     "text": [
      "       3/50         0G      1.183      1.489      1.021          6        416: 100%|██████████| 82/82 [02:52<00:00,  2.10s/it]\n",
      "                 Class     Images  Instances      Box(P          R      mAP50  mAP50-95): 100%|██████████| 5/5 [00:07<00:00,  1.52s/it]"
     ]
    },
    {
     "name": "stdout",
     "output_type": "stream",
     "text": [
      "                   all         40        122       0.61      0.795      0.808      0.566\n"
     ]
    },
    {
     "name": "stderr",
     "output_type": "stream",
     "text": [
      "\n"
     ]
    },
    {
     "name": "stdout",
     "output_type": "stream",
     "text": [
      "\n",
      "      Epoch    GPU_mem   box_loss   cls_loss   dfl_loss  Instances       Size\n"
     ]
    },
    {
     "name": "stderr",
     "output_type": "stream",
     "text": [
      "       4/50         0G      1.249      1.443      1.045          2        416: 100%|██████████| 82/82 [02:42<00:00,  1.98s/it]\n",
      "                 Class     Images  Instances      Box(P          R      mAP50  mAP50-95): 100%|██████████| 5/5 [00:07<00:00,  1.50s/it]"
     ]
    },
    {
     "name": "stdout",
     "output_type": "stream",
     "text": [
      "                   all         40        122       0.66      0.917      0.904        0.6\n"
     ]
    },
    {
     "name": "stderr",
     "output_type": "stream",
     "text": [
      "\n"
     ]
    },
    {
     "name": "stdout",
     "output_type": "stream",
     "text": [
      "\n",
      "      Epoch    GPU_mem   box_loss   cls_loss   dfl_loss  Instances       Size\n"
     ]
    },
    {
     "name": "stderr",
     "output_type": "stream",
     "text": [
      "       5/50         0G      1.228      1.199      1.054          2        416: 100%|██████████| 82/82 [02:42<00:00,  1.98s/it]\n",
      "                 Class     Images  Instances      Box(P          R      mAP50  mAP50-95): 100%|██████████| 5/5 [00:07<00:00,  1.49s/it]"
     ]
    },
    {
     "name": "stdout",
     "output_type": "stream",
     "text": [
      "                   all         40        122      0.699      0.684      0.786       0.56\n"
     ]
    },
    {
     "name": "stderr",
     "output_type": "stream",
     "text": [
      "\n"
     ]
    },
    {
     "name": "stdout",
     "output_type": "stream",
     "text": [
      "\n",
      "      Epoch    GPU_mem   box_loss   cls_loss   dfl_loss  Instances       Size\n"
     ]
    },
    {
     "name": "stderr",
     "output_type": "stream",
     "text": [
      "       6/50         0G      1.158      1.087      1.022          6        416: 100%|██████████| 82/82 [02:42<00:00,  1.98s/it]\n",
      "                 Class     Images  Instances      Box(P          R      mAP50  mAP50-95): 100%|██████████| 5/5 [00:07<00:00,  1.52s/it]"
     ]
    },
    {
     "name": "stdout",
     "output_type": "stream",
     "text": [
      "                   all         40        122      0.668      0.812       0.87      0.625\n"
     ]
    },
    {
     "name": "stderr",
     "output_type": "stream",
     "text": [
      "\n"
     ]
    },
    {
     "name": "stdout",
     "output_type": "stream",
     "text": [
      "\n",
      "      Epoch    GPU_mem   box_loss   cls_loss   dfl_loss  Instances       Size\n"
     ]
    },
    {
     "name": "stderr",
     "output_type": "stream",
     "text": [
      "       7/50         0G      1.151     0.9914      1.001          9        416: 100%|██████████| 82/82 [02:46<00:00,  2.03s/it]\n",
      "                 Class     Images  Instances      Box(P          R      mAP50  mAP50-95): 100%|██████████| 5/5 [00:07<00:00,  1.49s/it]"
     ]
    },
    {
     "name": "stdout",
     "output_type": "stream",
     "text": [
      "                   all         40        122      0.757      0.715      0.822      0.611\n"
     ]
    },
    {
     "name": "stderr",
     "output_type": "stream",
     "text": [
      "\n"
     ]
    },
    {
     "name": "stdout",
     "output_type": "stream",
     "text": [
      "\n",
      "      Epoch    GPU_mem   box_loss   cls_loss   dfl_loss  Instances       Size\n"
     ]
    },
    {
     "name": "stderr",
     "output_type": "stream",
     "text": [
      "       8/50         0G      1.128     0.9017       1.02          3        416: 100%|██████████| 82/82 [02:48<00:00,  2.05s/it]\n",
      "                 Class     Images  Instances      Box(P          R      mAP50  mAP50-95): 100%|██████████| 5/5 [00:07<00:00,  1.47s/it]"
     ]
    },
    {
     "name": "stdout",
     "output_type": "stream",
     "text": [
      "                   all         40        122      0.686      0.827      0.878      0.645\n"
     ]
    },
    {
     "name": "stderr",
     "output_type": "stream",
     "text": [
      "\n"
     ]
    },
    {
     "name": "stdout",
     "output_type": "stream",
     "text": [
      "\n",
      "      Epoch    GPU_mem   box_loss   cls_loss   dfl_loss  Instances       Size\n"
     ]
    },
    {
     "name": "stderr",
     "output_type": "stream",
     "text": [
      "       9/50         0G      1.138     0.9207      1.016          8        416: 100%|██████████| 82/82 [02:41<00:00,  1.97s/it]\n",
      "                 Class     Images  Instances      Box(P          R      mAP50  mAP50-95): 100%|██████████| 5/5 [00:07<00:00,  1.47s/it]"
     ]
    },
    {
     "name": "stdout",
     "output_type": "stream",
     "text": [
      "                   all         40        122       0.81      0.671      0.834      0.613\n"
     ]
    },
    {
     "name": "stderr",
     "output_type": "stream",
     "text": [
      "\n"
     ]
    },
    {
     "name": "stdout",
     "output_type": "stream",
     "text": [
      "\n",
      "      Epoch    GPU_mem   box_loss   cls_loss   dfl_loss  Instances       Size\n"
     ]
    },
    {
     "name": "stderr",
     "output_type": "stream",
     "text": [
      "      10/50         0G       1.08     0.8097       1.01         14        416: 100%|██████████| 82/82 [02:42<00:00,  1.98s/it]\n",
      "                 Class     Images  Instances      Box(P          R      mAP50  mAP50-95): 100%|██████████| 5/5 [00:07<00:00,  1.51s/it]"
     ]
    },
    {
     "name": "stdout",
     "output_type": "stream",
     "text": [
      "                   all         40        122      0.894      0.846      0.922      0.691\n"
     ]
    },
    {
     "name": "stderr",
     "output_type": "stream",
     "text": [
      "\n"
     ]
    },
    {
     "name": "stdout",
     "output_type": "stream",
     "text": [
      "\n",
      "      Epoch    GPU_mem   box_loss   cls_loss   dfl_loss  Instances       Size\n"
     ]
    },
    {
     "name": "stderr",
     "output_type": "stream",
     "text": [
      "      11/50         0G      1.083     0.8745      1.004          4        416: 100%|██████████| 82/82 [02:46<00:00,  2.03s/it]\n",
      "                 Class     Images  Instances      Box(P          R      mAP50  mAP50-95): 100%|██████████| 5/5 [00:08<00:00,  1.66s/it]"
     ]
    },
    {
     "name": "stdout",
     "output_type": "stream",
     "text": [
      "                   all         40        122       0.85      0.884      0.956      0.694\n"
     ]
    },
    {
     "name": "stderr",
     "output_type": "stream",
     "text": [
      "\n"
     ]
    },
    {
     "name": "stdout",
     "output_type": "stream",
     "text": [
      "\n",
      "      Epoch    GPU_mem   box_loss   cls_loss   dfl_loss  Instances       Size\n"
     ]
    },
    {
     "name": "stderr",
     "output_type": "stream",
     "text": [
      "      12/50         0G      1.081     0.8026     0.9982          2        416: 100%|██████████| 82/82 [02:41<00:00,  1.97s/it]\n",
      "                 Class     Images  Instances      Box(P          R      mAP50  mAP50-95): 100%|██████████| 5/5 [00:07<00:00,  1.49s/it]"
     ]
    },
    {
     "name": "stdout",
     "output_type": "stream",
     "text": [
      "                   all         40        122      0.913      0.897      0.919      0.672\n"
     ]
    },
    {
     "name": "stderr",
     "output_type": "stream",
     "text": [
      "\n"
     ]
    },
    {
     "name": "stdout",
     "output_type": "stream",
     "text": [
      "\n",
      "      Epoch    GPU_mem   box_loss   cls_loss   dfl_loss  Instances       Size\n"
     ]
    },
    {
     "name": "stderr",
     "output_type": "stream",
     "text": [
      "      13/50         0G      1.113      0.739      1.002          4        416: 100%|██████████| 82/82 [02:53<00:00,  2.12s/it]\n",
      "                 Class     Images  Instances      Box(P          R      mAP50  mAP50-95): 100%|██████████| 5/5 [00:08<00:00,  1.80s/it]"
     ]
    },
    {
     "name": "stdout",
     "output_type": "stream",
     "text": [
      "                   all         40        122      0.934      0.906      0.979      0.706\n"
     ]
    },
    {
     "name": "stderr",
     "output_type": "stream",
     "text": [
      "\n"
     ]
    },
    {
     "name": "stdout",
     "output_type": "stream",
     "text": [
      "\n",
      "      Epoch    GPU_mem   box_loss   cls_loss   dfl_loss  Instances       Size\n"
     ]
    },
    {
     "name": "stderr",
     "output_type": "stream",
     "text": [
      "      14/50         0G      1.067     0.7231     0.9801          4        416: 100%|██████████| 82/82 [02:51<00:00,  2.09s/it]\n",
      "                 Class     Images  Instances      Box(P          R      mAP50  mAP50-95): 100%|██████████| 5/5 [00:07<00:00,  1.58s/it]"
     ]
    },
    {
     "name": "stdout",
     "output_type": "stream",
     "text": [
      "                   all         40        122      0.922      0.929      0.973       0.71\n"
     ]
    },
    {
     "name": "stderr",
     "output_type": "stream",
     "text": [
      "\n"
     ]
    },
    {
     "name": "stdout",
     "output_type": "stream",
     "text": [
      "\n",
      "      Epoch    GPU_mem   box_loss   cls_loss   dfl_loss  Instances       Size\n"
     ]
    },
    {
     "name": "stderr",
     "output_type": "stream",
     "text": [
      "      15/50         0G      1.019     0.6792     0.9642          5        416: 100%|██████████| 82/82 [02:46<00:00,  2.04s/it]\n",
      "                 Class     Images  Instances      Box(P          R      mAP50  mAP50-95): 100%|██████████| 5/5 [00:06<00:00,  1.37s/it]"
     ]
    },
    {
     "name": "stdout",
     "output_type": "stream",
     "text": [
      "                   all         40        122      0.883      0.876      0.919      0.698\n"
     ]
    },
    {
     "name": "stderr",
     "output_type": "stream",
     "text": [
      "\n"
     ]
    },
    {
     "name": "stdout",
     "output_type": "stream",
     "text": [
      "\n",
      "      Epoch    GPU_mem   box_loss   cls_loss   dfl_loss  Instances       Size\n"
     ]
    },
    {
     "name": "stderr",
     "output_type": "stream",
     "text": [
      "      16/50         0G     0.9943     0.6533     0.9505          1        416: 100%|██████████| 82/82 [02:34<00:00,  1.89s/it]\n",
      "                 Class     Images  Instances      Box(P          R      mAP50  mAP50-95): 100%|██████████| 5/5 [00:06<00:00,  1.40s/it]"
     ]
    },
    {
     "name": "stdout",
     "output_type": "stream",
     "text": [
      "                   all         40        122      0.889      0.867      0.935        0.7\n"
     ]
    },
    {
     "name": "stderr",
     "output_type": "stream",
     "text": [
      "\n"
     ]
    },
    {
     "name": "stdout",
     "output_type": "stream",
     "text": [
      "\n",
      "      Epoch    GPU_mem   box_loss   cls_loss   dfl_loss  Instances       Size\n"
     ]
    },
    {
     "name": "stderr",
     "output_type": "stream",
     "text": [
      "      17/50         0G     0.9471     0.6398     0.9381          1        416: 100%|██████████| 82/82 [02:40<00:00,  1.95s/it]\n",
      "                 Class     Images  Instances      Box(P          R      mAP50  mAP50-95): 100%|██████████| 5/5 [00:07<00:00,  1.56s/it]"
     ]
    },
    {
     "name": "stdout",
     "output_type": "stream",
     "text": [
      "                   all         40        122      0.932      0.911      0.929      0.722\n"
     ]
    },
    {
     "name": "stderr",
     "output_type": "stream",
     "text": [
      "\n"
     ]
    },
    {
     "name": "stdout",
     "output_type": "stream",
     "text": [
      "\n",
      "      Epoch    GPU_mem   box_loss   cls_loss   dfl_loss  Instances       Size\n"
     ]
    },
    {
     "name": "stderr",
     "output_type": "stream",
     "text": [
      "      18/50         0G     0.9805     0.6316     0.9737         12        416: 100%|██████████| 82/82 [02:57<00:00,  2.16s/it]\n",
      "                 Class     Images  Instances      Box(P          R      mAP50  mAP50-95): 100%|██████████| 5/5 [00:07<00:00,  1.54s/it]"
     ]
    },
    {
     "name": "stdout",
     "output_type": "stream",
     "text": [
      "                   all         40        122       0.85      0.663      0.782      0.601\n"
     ]
    },
    {
     "name": "stderr",
     "output_type": "stream",
     "text": [
      "\n"
     ]
    },
    {
     "name": "stdout",
     "output_type": "stream",
     "text": [
      "\n",
      "      Epoch    GPU_mem   box_loss   cls_loss   dfl_loss  Instances       Size\n"
     ]
    },
    {
     "name": "stderr",
     "output_type": "stream",
     "text": [
      "      19/50         0G     0.9506     0.6212     0.9645          7        416: 100%|██████████| 82/82 [02:47<00:00,  2.05s/it]\n",
      "                 Class     Images  Instances      Box(P          R      mAP50  mAP50-95): 100%|██████████| 5/5 [00:06<00:00,  1.38s/it]"
     ]
    },
    {
     "name": "stdout",
     "output_type": "stream",
     "text": [
      "                   all         40        122      0.956       0.95      0.987      0.785\n"
     ]
    },
    {
     "name": "stderr",
     "output_type": "stream",
     "text": [
      "\n"
     ]
    },
    {
     "name": "stdout",
     "output_type": "stream",
     "text": [
      "\n",
      "      Epoch    GPU_mem   box_loss   cls_loss   dfl_loss  Instances       Size\n"
     ]
    },
    {
     "name": "stderr",
     "output_type": "stream",
     "text": [
      "      20/50         0G     0.9732     0.6173     0.9831          2        416: 100%|██████████| 82/82 [02:29<00:00,  1.83s/it]\n",
      "                 Class     Images  Instances      Box(P          R      mAP50  mAP50-95): 100%|██████████| 5/5 [00:06<00:00,  1.39s/it]"
     ]
    },
    {
     "name": "stdout",
     "output_type": "stream",
     "text": [
      "                   all         40        122      0.854      0.883        0.9      0.683\n"
     ]
    },
    {
     "name": "stderr",
     "output_type": "stream",
     "text": [
      "\n"
     ]
    },
    {
     "name": "stdout",
     "output_type": "stream",
     "text": [
      "\n",
      "      Epoch    GPU_mem   box_loss   cls_loss   dfl_loss  Instances       Size\n"
     ]
    },
    {
     "name": "stderr",
     "output_type": "stream",
     "text": [
      "      21/50         0G     0.9586     0.6021     0.9668         11        416: 100%|██████████| 82/82 [02:41<00:00,  1.97s/it]\n",
      "                 Class     Images  Instances      Box(P          R      mAP50  mAP50-95): 100%|██████████| 5/5 [00:07<00:00,  1.49s/it]"
     ]
    },
    {
     "name": "stdout",
     "output_type": "stream",
     "text": [
      "                   all         40        122      0.877      0.874      0.969      0.747\n"
     ]
    },
    {
     "name": "stderr",
     "output_type": "stream",
     "text": [
      "\n"
     ]
    },
    {
     "name": "stdout",
     "output_type": "stream",
     "text": [
      "\n",
      "      Epoch    GPU_mem   box_loss   cls_loss   dfl_loss  Instances       Size\n"
     ]
    },
    {
     "name": "stderr",
     "output_type": "stream",
     "text": [
      "      22/50         0G     0.9365     0.6209     0.9359          7        416: 100%|██████████| 82/82 [02:33<00:00,  1.87s/it]\n",
      "                 Class     Images  Instances      Box(P          R      mAP50  mAP50-95): 100%|██████████| 5/5 [00:06<00:00,  1.36s/it]"
     ]
    },
    {
     "name": "stdout",
     "output_type": "stream",
     "text": [
      "                   all         40        122      0.913      0.925      0.984      0.772\n"
     ]
    },
    {
     "name": "stderr",
     "output_type": "stream",
     "text": [
      "\n"
     ]
    },
    {
     "name": "stdout",
     "output_type": "stream",
     "text": [
      "\n",
      "      Epoch    GPU_mem   box_loss   cls_loss   dfl_loss  Instances       Size\n"
     ]
    },
    {
     "name": "stderr",
     "output_type": "stream",
     "text": [
      "      23/50         0G     0.9293     0.6026     0.9337          9        416: 100%|██████████| 82/82 [02:31<00:00,  1.84s/it]\n",
      "                 Class     Images  Instances      Box(P          R      mAP50  mAP50-95): 100%|██████████| 5/5 [00:06<00:00,  1.33s/it]"
     ]
    },
    {
     "name": "stdout",
     "output_type": "stream",
     "text": [
      "                   all         40        122      0.956      0.957      0.987      0.768\n"
     ]
    },
    {
     "name": "stderr",
     "output_type": "stream",
     "text": [
      "\n"
     ]
    },
    {
     "name": "stdout",
     "output_type": "stream",
     "text": [
      "\n",
      "      Epoch    GPU_mem   box_loss   cls_loss   dfl_loss  Instances       Size\n"
     ]
    },
    {
     "name": "stderr",
     "output_type": "stream",
     "text": [
      "      24/50         0G      0.957     0.5944     0.9524          4        416: 100%|██████████| 82/82 [02:31<00:00,  1.85s/it]\n",
      "                 Class     Images  Instances      Box(P          R      mAP50  mAP50-95): 100%|██████████| 5/5 [00:07<00:00,  1.58s/it]"
     ]
    },
    {
     "name": "stdout",
     "output_type": "stream",
     "text": [
      "                   all         40        122       0.91      0.987      0.994      0.782\n"
     ]
    },
    {
     "name": "stderr",
     "output_type": "stream",
     "text": [
      "\n"
     ]
    },
    {
     "name": "stdout",
     "output_type": "stream",
     "text": [
      "\n",
      "      Epoch    GPU_mem   box_loss   cls_loss   dfl_loss  Instances       Size\n"
     ]
    },
    {
     "name": "stderr",
     "output_type": "stream",
     "text": [
      "      25/50         0G     0.9506     0.5911     0.9574          3        416: 100%|██████████| 82/82 [02:44<00:00,  2.01s/it]\n",
      "                 Class     Images  Instances      Box(P          R      mAP50  mAP50-95): 100%|██████████| 5/5 [00:07<00:00,  1.55s/it]"
     ]
    },
    {
     "name": "stdout",
     "output_type": "stream",
     "text": [
      "                   all         40        122        0.9      0.986      0.992      0.738\n"
     ]
    },
    {
     "name": "stderr",
     "output_type": "stream",
     "text": [
      "\n"
     ]
    },
    {
     "name": "stdout",
     "output_type": "stream",
     "text": [
      "\n",
      "      Epoch    GPU_mem   box_loss   cls_loss   dfl_loss  Instances       Size\n"
     ]
    },
    {
     "name": "stderr",
     "output_type": "stream",
     "text": [
      "      26/50         0G     0.9063     0.5371     0.9251          3        416: 100%|██████████| 82/82 [02:42<00:00,  1.98s/it]\n",
      "                 Class     Images  Instances      Box(P          R      mAP50  mAP50-95): 100%|██████████| 5/5 [00:07<00:00,  1.58s/it]"
     ]
    },
    {
     "name": "stdout",
     "output_type": "stream",
     "text": [
      "                   all         40        122      0.915      0.979      0.993      0.764\n"
     ]
    },
    {
     "name": "stderr",
     "output_type": "stream",
     "text": [
      "\n"
     ]
    },
    {
     "name": "stdout",
     "output_type": "stream",
     "text": [
      "\n",
      "      Epoch    GPU_mem   box_loss   cls_loss   dfl_loss  Instances       Size\n"
     ]
    },
    {
     "name": "stderr",
     "output_type": "stream",
     "text": [
      "      27/50         0G     0.9264     0.5311     0.9398         12        416: 100%|██████████| 82/82 [02:44<00:00,  2.00s/it]\n",
      "                 Class     Images  Instances      Box(P          R      mAP50  mAP50-95): 100%|██████████| 5/5 [00:07<00:00,  1.56s/it]"
     ]
    },
    {
     "name": "stdout",
     "output_type": "stream",
     "text": [
      "                   all         40        122      0.867      0.938      0.992       0.78\n"
     ]
    },
    {
     "name": "stderr",
     "output_type": "stream",
     "text": [
      "\n"
     ]
    },
    {
     "name": "stdout",
     "output_type": "stream",
     "text": [
      "\n",
      "      Epoch    GPU_mem   box_loss   cls_loss   dfl_loss  Instances       Size\n"
     ]
    },
    {
     "name": "stderr",
     "output_type": "stream",
     "text": [
      "      28/50         0G     0.9284      0.532     0.9547          2        416: 100%|██████████| 82/82 [02:42<00:00,  1.98s/it]\n",
      "                 Class     Images  Instances      Box(P          R      mAP50  mAP50-95): 100%|██████████| 5/5 [00:07<00:00,  1.56s/it]"
     ]
    },
    {
     "name": "stdout",
     "output_type": "stream",
     "text": [
      "                   all         40        122      0.972      0.921      0.994      0.763\n"
     ]
    },
    {
     "name": "stderr",
     "output_type": "stream",
     "text": [
      "\n"
     ]
    },
    {
     "name": "stdout",
     "output_type": "stream",
     "text": [
      "\n",
      "      Epoch    GPU_mem   box_loss   cls_loss   dfl_loss  Instances       Size\n"
     ]
    },
    {
     "name": "stderr",
     "output_type": "stream",
     "text": [
      "      29/50         0G     0.8675     0.5345     0.9194          2        416: 100%|██████████| 82/82 [02:43<00:00,  1.99s/it]\n",
      "                 Class     Images  Instances      Box(P          R      mAP50  mAP50-95): 100%|██████████| 5/5 [00:07<00:00,  1.57s/it]"
     ]
    },
    {
     "name": "stdout",
     "output_type": "stream",
     "text": [
      "                   all         40        122      0.978      0.971      0.993      0.764\n"
     ]
    },
    {
     "name": "stderr",
     "output_type": "stream",
     "text": [
      "\n"
     ]
    },
    {
     "name": "stdout",
     "output_type": "stream",
     "text": [
      "\n",
      "      Epoch    GPU_mem   box_loss   cls_loss   dfl_loss  Instances       Size\n"
     ]
    },
    {
     "name": "stderr",
     "output_type": "stream",
     "text": [
      "      30/50         0G     0.8768     0.5222     0.9242          7        416: 100%|██████████| 82/82 [02:52<00:00,  2.11s/it]\n",
      "                 Class     Images  Instances      Box(P          R      mAP50  mAP50-95): 100%|██████████| 5/5 [00:09<00:00,  1.86s/it]"
     ]
    },
    {
     "name": "stdout",
     "output_type": "stream",
     "text": [
      "                   all         40        122      0.961      0.967      0.995      0.785\n"
     ]
    },
    {
     "name": "stderr",
     "output_type": "stream",
     "text": [
      "\n"
     ]
    },
    {
     "name": "stdout",
     "output_type": "stream",
     "text": [
      "\n",
      "      Epoch    GPU_mem   box_loss   cls_loss   dfl_loss  Instances       Size\n"
     ]
    },
    {
     "name": "stderr",
     "output_type": "stream",
     "text": [
      "      31/50         0G     0.8838     0.5236      0.912          3        416: 100%|██████████| 82/82 [02:42<00:00,  1.98s/it]\n",
      "                 Class     Images  Instances      Box(P          R      mAP50  mAP50-95): 100%|██████████| 5/5 [00:08<00:00,  1.71s/it]"
     ]
    },
    {
     "name": "stdout",
     "output_type": "stream",
     "text": [
      "                   all         40        122      0.941      0.956      0.994      0.772\n"
     ]
    },
    {
     "name": "stderr",
     "output_type": "stream",
     "text": [
      "\n"
     ]
    },
    {
     "name": "stdout",
     "output_type": "stream",
     "text": [
      "\n",
      "      Epoch    GPU_mem   box_loss   cls_loss   dfl_loss  Instances       Size\n"
     ]
    },
    {
     "name": "stderr",
     "output_type": "stream",
     "text": [
      "      32/50         0G     0.8288     0.5137     0.9304          4        416: 100%|██████████| 82/82 [02:48<00:00,  2.05s/it]\n",
      "                 Class     Images  Instances      Box(P          R      mAP50  mAP50-95): 100%|██████████| 5/5 [00:07<00:00,  1.59s/it]"
     ]
    },
    {
     "name": "stdout",
     "output_type": "stream",
     "text": [
      "                   all         40        122      0.885       0.99      0.991      0.789\n"
     ]
    },
    {
     "name": "stderr",
     "output_type": "stream",
     "text": [
      "\n"
     ]
    },
    {
     "name": "stdout",
     "output_type": "stream",
     "text": [
      "\n",
      "      Epoch    GPU_mem   box_loss   cls_loss   dfl_loss  Instances       Size\n"
     ]
    },
    {
     "name": "stderr",
     "output_type": "stream",
     "text": [
      "      33/50         0G     0.8207     0.5059     0.9237          3        416: 100%|██████████| 82/82 [02:37<00:00,  1.92s/it]\n",
      "                 Class     Images  Instances      Box(P          R      mAP50  mAP50-95): 100%|██████████| 5/5 [00:06<00:00,  1.39s/it]"
     ]
    },
    {
     "name": "stdout",
     "output_type": "stream",
     "text": [
      "                   all         40        122      0.876      0.997      0.992      0.789\n"
     ]
    },
    {
     "name": "stderr",
     "output_type": "stream",
     "text": [
      "\n"
     ]
    },
    {
     "name": "stdout",
     "output_type": "stream",
     "text": [
      "\n",
      "      Epoch    GPU_mem   box_loss   cls_loss   dfl_loss  Instances       Size\n"
     ]
    },
    {
     "name": "stderr",
     "output_type": "stream",
     "text": [
      "      34/50         0G     0.8321     0.4987     0.9116          5        416: 100%|██████████| 82/82 [02:36<00:00,  1.91s/it]\n",
      "                 Class     Images  Instances      Box(P          R      mAP50  mAP50-95): 100%|██████████| 5/5 [00:07<00:00,  1.46s/it]"
     ]
    },
    {
     "name": "stdout",
     "output_type": "stream",
     "text": [
      "                   all         40        122       0.94      0.988      0.994      0.772\n"
     ]
    },
    {
     "name": "stderr",
     "output_type": "stream",
     "text": [
      "\n"
     ]
    },
    {
     "name": "stdout",
     "output_type": "stream",
     "text": [
      "\n",
      "      Epoch    GPU_mem   box_loss   cls_loss   dfl_loss  Instances       Size\n"
     ]
    },
    {
     "name": "stderr",
     "output_type": "stream",
     "text": [
      "      35/50         0G     0.8159     0.4757     0.9018          7        416: 100%|██████████| 82/82 [02:35<00:00,  1.90s/it]\n",
      "                 Class     Images  Instances      Box(P          R      mAP50  mAP50-95): 100%|██████████| 5/5 [00:06<00:00,  1.39s/it]"
     ]
    },
    {
     "name": "stdout",
     "output_type": "stream",
     "text": [
      "                   all         40        122      0.919       0.99      0.995      0.778\n"
     ]
    },
    {
     "name": "stderr",
     "output_type": "stream",
     "text": [
      "\n"
     ]
    },
    {
     "name": "stdout",
     "output_type": "stream",
     "text": [
      "\n",
      "      Epoch    GPU_mem   box_loss   cls_loss   dfl_loss  Instances       Size\n"
     ]
    },
    {
     "name": "stderr",
     "output_type": "stream",
     "text": [
      "      36/50         0G     0.8096     0.4989     0.8869          5        416: 100%|██████████| 82/82 [02:44<00:00,  2.00s/it]\n",
      "                 Class     Images  Instances      Box(P          R      mAP50  mAP50-95): 100%|██████████| 5/5 [00:07<00:00,  1.60s/it]"
     ]
    },
    {
     "name": "stdout",
     "output_type": "stream",
     "text": [
      "                   all         40        122      0.887      0.992       0.97      0.773\n"
     ]
    },
    {
     "name": "stderr",
     "output_type": "stream",
     "text": [
      "\n"
     ]
    },
    {
     "name": "stdout",
     "output_type": "stream",
     "text": [
      "\n",
      "      Epoch    GPU_mem   box_loss   cls_loss   dfl_loss  Instances       Size\n"
     ]
    },
    {
     "name": "stderr",
     "output_type": "stream",
     "text": [
      "      37/50         0G     0.8129     0.4678     0.8967          3        416: 100%|██████████| 82/82 [02:58<00:00,  2.18s/it]\n",
      "                 Class     Images  Instances      Box(P          R      mAP50  mAP50-95): 100%|██████████| 5/5 [00:07<00:00,  1.54s/it]"
     ]
    },
    {
     "name": "stdout",
     "output_type": "stream",
     "text": [
      "                   all         40        122       0.93      0.938       0.97      0.756\n"
     ]
    },
    {
     "name": "stderr",
     "output_type": "stream",
     "text": [
      "\n"
     ]
    },
    {
     "name": "stdout",
     "output_type": "stream",
     "text": [
      "\n",
      "      Epoch    GPU_mem   box_loss   cls_loss   dfl_loss  Instances       Size\n"
     ]
    },
    {
     "name": "stderr",
     "output_type": "stream",
     "text": [
      "      38/50         0G     0.8114     0.4652     0.9017          4        416: 100%|██████████| 82/82 [03:01<00:00,  2.21s/it]\n",
      "                 Class     Images  Instances      Box(P          R      mAP50  mAP50-95): 100%|██████████| 5/5 [00:08<00:00,  1.69s/it]"
     ]
    },
    {
     "name": "stdout",
     "output_type": "stream",
     "text": [
      "                   all         40        122      0.948      0.928      0.971      0.745\n"
     ]
    },
    {
     "name": "stderr",
     "output_type": "stream",
     "text": [
      "\n"
     ]
    },
    {
     "name": "stdout",
     "output_type": "stream",
     "text": [
      "\n",
      "      Epoch    GPU_mem   box_loss   cls_loss   dfl_loss  Instances       Size\n"
     ]
    },
    {
     "name": "stderr",
     "output_type": "stream",
     "text": [
      "      39/50         0G     0.7978     0.4603     0.9118          9        416: 100%|██████████| 82/82 [03:01<00:00,  2.22s/it]\n",
      "                 Class     Images  Instances      Box(P          R      mAP50  mAP50-95): 100%|██████████| 5/5 [00:08<00:00,  1.68s/it]"
     ]
    },
    {
     "name": "stdout",
     "output_type": "stream",
     "text": [
      "                   all         40        122      0.932      0.937      0.986      0.781\n"
     ]
    },
    {
     "name": "stderr",
     "output_type": "stream",
     "text": [
      "\n"
     ]
    },
    {
     "name": "stdout",
     "output_type": "stream",
     "text": [
      "\n",
      "      Epoch    GPU_mem   box_loss   cls_loss   dfl_loss  Instances       Size\n"
     ]
    },
    {
     "name": "stderr",
     "output_type": "stream",
     "text": [
      "      40/50         0G     0.7554     0.4504     0.9057          3        416: 100%|██████████| 82/82 [02:53<00:00,  2.12s/it]\n",
      "                 Class     Images  Instances      Box(P          R      mAP50  mAP50-95): 100%|██████████| 5/5 [00:07<00:00,  1.51s/it]"
     ]
    },
    {
     "name": "stdout",
     "output_type": "stream",
     "text": [
      "                   all         40        122      0.902      0.985      0.978      0.776\n"
     ]
    },
    {
     "name": "stderr",
     "output_type": "stream",
     "text": [
      "\n"
     ]
    },
    {
     "name": "stdout",
     "output_type": "stream",
     "text": [
      "Closing dataloader mosaic\n",
      "\n",
      "      Epoch    GPU_mem   box_loss   cls_loss   dfl_loss  Instances       Size\n"
     ]
    },
    {
     "name": "stderr",
     "output_type": "stream",
     "text": [
      "d:\\coding\\Applied-DL\\venv\\Lib\\site-packages\\torch\\utils\\data\\dataloader.py:665: UserWarning: 'pin_memory' argument is set as true but no accelerator is found, then device pinned memory won't be used.\n",
      "  warnings.warn(warn_msg)\n",
      "      41/50         0G     0.7387     0.4016     0.9091          3        416: 100%|██████████| 82/82 [02:42<00:00,  1.98s/it]\n",
      "                 Class     Images  Instances      Box(P          R      mAP50  mAP50-95): 100%|██████████| 5/5 [00:07<00:00,  1.51s/it]"
     ]
    },
    {
     "name": "stdout",
     "output_type": "stream",
     "text": [
      "                   all         40        122       0.93      0.947       0.97       0.77\n"
     ]
    },
    {
     "name": "stderr",
     "output_type": "stream",
     "text": [
      "\n"
     ]
    },
    {
     "name": "stdout",
     "output_type": "stream",
     "text": [
      "\n",
      "      Epoch    GPU_mem   box_loss   cls_loss   dfl_loss  Instances       Size\n"
     ]
    },
    {
     "name": "stderr",
     "output_type": "stream",
     "text": [
      "      42/50         0G     0.7145     0.4098     0.8884         14        416: 100%|██████████| 82/82 [02:38<00:00,  1.93s/it]\n",
      "                 Class     Images  Instances      Box(P          R      mAP50  mAP50-95): 100%|██████████| 5/5 [00:06<00:00,  1.38s/it]"
     ]
    },
    {
     "name": "stdout",
     "output_type": "stream",
     "text": [
      "                   all         40        122      0.901      0.982      0.971       0.75\n"
     ]
    },
    {
     "name": "stderr",
     "output_type": "stream",
     "text": [
      "\n"
     ]
    },
    {
     "name": "stdout",
     "output_type": "stream",
     "text": [
      "\n",
      "      Epoch    GPU_mem   box_loss   cls_loss   dfl_loss  Instances       Size\n"
     ]
    },
    {
     "name": "stderr",
     "output_type": "stream",
     "text": [
      "      43/50         0G      0.748     0.3988     0.9197         12        416: 100%|██████████| 82/82 [02:30<00:00,  1.84s/it]\n",
      "                 Class     Images  Instances      Box(P          R      mAP50  mAP50-95): 100%|██████████| 5/5 [00:06<00:00,  1.36s/it]"
     ]
    },
    {
     "name": "stdout",
     "output_type": "stream",
     "text": [
      "                   all         40        122      0.881       0.98      0.993      0.797\n"
     ]
    },
    {
     "name": "stderr",
     "output_type": "stream",
     "text": [
      "\n"
     ]
    },
    {
     "name": "stdout",
     "output_type": "stream",
     "text": [
      "\n",
      "      Epoch    GPU_mem   box_loss   cls_loss   dfl_loss  Instances       Size\n"
     ]
    },
    {
     "name": "stderr",
     "output_type": "stream",
     "text": [
      "      44/50         0G     0.7078     0.3876     0.8869          3        416: 100%|██████████| 82/82 [02:31<00:00,  1.85s/it]\n",
      "                 Class     Images  Instances      Box(P          R      mAP50  mAP50-95): 100%|██████████| 5/5 [00:07<00:00,  1.44s/it]"
     ]
    },
    {
     "name": "stdout",
     "output_type": "stream",
     "text": [
      "                   all         40        122      0.913      0.941      0.993      0.778\n"
     ]
    },
    {
     "name": "stderr",
     "output_type": "stream",
     "text": [
      "\n"
     ]
    },
    {
     "name": "stdout",
     "output_type": "stream",
     "text": [
      "\n",
      "      Epoch    GPU_mem   box_loss   cls_loss   dfl_loss  Instances       Size\n"
     ]
    },
    {
     "name": "stderr",
     "output_type": "stream",
     "text": [
      "      45/50         0G     0.6921     0.3718     0.8795          2        416: 100%|██████████| 82/82 [02:32<00:00,  1.86s/it]\n",
      "                 Class     Images  Instances      Box(P          R      mAP50  mAP50-95): 100%|██████████| 5/5 [00:06<00:00,  1.38s/it]"
     ]
    },
    {
     "name": "stdout",
     "output_type": "stream",
     "text": [
      "                   all         40        122      0.925      0.939      0.994      0.783\n"
     ]
    },
    {
     "name": "stderr",
     "output_type": "stream",
     "text": [
      "\n"
     ]
    },
    {
     "name": "stdout",
     "output_type": "stream",
     "text": [
      "\n",
      "      Epoch    GPU_mem   box_loss   cls_loss   dfl_loss  Instances       Size\n"
     ]
    },
    {
     "name": "stderr",
     "output_type": "stream",
     "text": [
      "      46/50         0G     0.6928     0.3854     0.8849          3        416: 100%|██████████| 82/82 [02:34<00:00,  1.88s/it]\n",
      "                 Class     Images  Instances      Box(P          R      mAP50  mAP50-95): 100%|██████████| 5/5 [00:08<00:00,  1.62s/it]"
     ]
    },
    {
     "name": "stdout",
     "output_type": "stream",
     "text": [
      "                   all         40        122      0.927      0.982      0.995      0.786\n"
     ]
    },
    {
     "name": "stderr",
     "output_type": "stream",
     "text": [
      "\n"
     ]
    },
    {
     "name": "stdout",
     "output_type": "stream",
     "text": [
      "\n",
      "      Epoch    GPU_mem   box_loss   cls_loss   dfl_loss  Instances       Size\n"
     ]
    },
    {
     "name": "stderr",
     "output_type": "stream",
     "text": [
      "      47/50         0G      0.685     0.3703     0.8731          3        416: 100%|██████████| 82/82 [02:42<00:00,  1.98s/it]\n",
      "                 Class     Images  Instances      Box(P          R      mAP50  mAP50-95): 100%|██████████| 5/5 [00:07<00:00,  1.57s/it]"
     ]
    },
    {
     "name": "stdout",
     "output_type": "stream",
     "text": [
      "                   all         40        122      0.951      0.973      0.995      0.777\n"
     ]
    },
    {
     "name": "stderr",
     "output_type": "stream",
     "text": [
      "\n"
     ]
    },
    {
     "name": "stdout",
     "output_type": "stream",
     "text": [
      "\n",
      "      Epoch    GPU_mem   box_loss   cls_loss   dfl_loss  Instances       Size\n"
     ]
    },
    {
     "name": "stderr",
     "output_type": "stream",
     "text": [
      "      48/50         0G     0.6676     0.3697      0.897          3        416: 100%|██████████| 82/82 [02:46<00:00,  2.04s/it]\n",
      "                 Class     Images  Instances      Box(P          R      mAP50  mAP50-95): 100%|██████████| 5/5 [00:07<00:00,  1.56s/it]"
     ]
    },
    {
     "name": "stdout",
     "output_type": "stream",
     "text": [
      "                   all         40        122      0.945      0.975      0.995      0.786\n"
     ]
    },
    {
     "name": "stderr",
     "output_type": "stream",
     "text": [
      "\n"
     ]
    },
    {
     "name": "stdout",
     "output_type": "stream",
     "text": [
      "\n",
      "      Epoch    GPU_mem   box_loss   cls_loss   dfl_loss  Instances       Size\n"
     ]
    },
    {
     "name": "stderr",
     "output_type": "stream",
     "text": [
      "      49/50         0G     0.6508     0.3471     0.8827          3        416: 100%|██████████| 82/82 [02:44<00:00,  2.00s/it]\n",
      "                 Class     Images  Instances      Box(P          R      mAP50  mAP50-95): 100%|██████████| 5/5 [00:07<00:00,  1.57s/it]"
     ]
    },
    {
     "name": "stdout",
     "output_type": "stream",
     "text": [
      "                   all         40        122      0.929      0.979      0.995      0.787\n"
     ]
    },
    {
     "name": "stderr",
     "output_type": "stream",
     "text": [
      "\n"
     ]
    },
    {
     "name": "stdout",
     "output_type": "stream",
     "text": [
      "\n",
      "      Epoch    GPU_mem   box_loss   cls_loss   dfl_loss  Instances       Size\n"
     ]
    },
    {
     "name": "stderr",
     "output_type": "stream",
     "text": [
      "      50/50         0G     0.6433     0.3554      0.872          4        416: 100%|██████████| 82/82 [02:46<00:00,  2.04s/it]\n",
      "                 Class     Images  Instances      Box(P          R      mAP50  mAP50-95): 100%|██████████| 5/5 [00:07<00:00,  1.58s/it]"
     ]
    },
    {
     "name": "stdout",
     "output_type": "stream",
     "text": [
      "                   all         40        122      0.924      0.988      0.995      0.781\n"
     ]
    },
    {
     "name": "stderr",
     "output_type": "stream",
     "text": [
      "\n"
     ]
    },
    {
     "name": "stdout",
     "output_type": "stream",
     "text": [
      "\n",
      "50 epochs completed in 2.393 hours.\n",
      "Optimizer stripped from d:\\coding\\Applied-DL\\runs\\detect\\chess_data_results3\\weights\\last.pt, 52.0MB\n",
      "Optimizer stripped from d:\\coding\\Applied-DL\\runs\\detect\\chess_data_results3\\weights\\best.pt, 52.0MB\n",
      "\n",
      "Validating d:\\coding\\Applied-DL\\runs\\detect\\chess_data_results3\\weights\\best.pt...\n",
      "Ultralytics 8.3.162  Python-3.12.3 torch-2.7.1+cpu CPU (AMD Ryzen 7 5800HS with Radeon Graphics)\n",
      "Model summary (fused): 92 layers, 25,846,708 parameters, 0 gradients, 78.7 GFLOPs\n"
     ]
    },
    {
     "name": "stderr",
     "output_type": "stream",
     "text": [
      "                 Class     Images  Instances      Box(P          R      mAP50  mAP50-95): 100%|██████████| 5/5 [00:07<00:00,  1.44s/it]\n"
     ]
    },
    {
     "name": "stdout",
     "output_type": "stream",
     "text": [
      "                   all         40        122      0.881      0.979      0.993      0.797\n",
      "            black-king          7         14      0.911          1      0.995       0.71\n",
      "          black-knight         14         14      0.934      0.929      0.986      0.841\n",
      "            black-pawn         15         15      0.951          1      0.995      0.846\n",
      "           black-queen         10         17      0.968          1      0.995      0.837\n",
      "            black-rook          3          3      0.441          1      0.995      0.831\n",
      "          white-bishop          9          9      0.927          1      0.995      0.816\n",
      "            white-king          9         12      0.925          1      0.995       0.76\n",
      "          white-knight         14         14      0.787          1      0.995      0.852\n",
      "            white-pawn          7          7      0.902          1      0.995      0.842\n",
      "           white-queen         11         14      0.943      0.929      0.986      0.725\n",
      "            white-rook          3          3          1      0.915      0.995      0.703\n",
      "Speed: 1.0ms preprocess, 170.3ms inference, 0.0ms loss, 0.4ms postprocess per image\n",
      "Results saved to \u001b[1md:\\coding\\Applied-DL\\runs\\detect\\chess_data_results3\u001b[0m\n"
     ]
    }
   ],
   "source": [
    "model = YOLO('yolov8m.pt')\n",
    "\n",
    "results = model.train(\n",
    "    data=r'D:\\coding\\Applied-DL\\Chess-Analytics-Model\\chess_data.yaml',  \n",
    "    epochs=50,\n",
    "    imgsz=416,\n",
    "    batch=4,\n",
    "    name='chess_data_results',\n",
    "    plots=True,\n",
    "    amp=False\n",
    ")\n"
   ]
  },
  {
   "cell_type": "code",
   "execution_count": null,
   "id": "52b19603",
   "metadata": {},
   "outputs": [],
   "source": []
  }
 ],
 "metadata": {
  "kernelspec": {
   "display_name": "venv",
   "language": "python",
   "name": "python3"
  },
  "language_info": {
   "codemirror_mode": {
    "name": "ipython",
    "version": 3
   },
   "file_extension": ".py",
   "mimetype": "text/x-python",
   "name": "python",
   "nbconvert_exporter": "python",
   "pygments_lexer": "ipython3",
   "version": "3.12.3"
  }
 },
 "nbformat": 4,
 "nbformat_minor": 5
}
